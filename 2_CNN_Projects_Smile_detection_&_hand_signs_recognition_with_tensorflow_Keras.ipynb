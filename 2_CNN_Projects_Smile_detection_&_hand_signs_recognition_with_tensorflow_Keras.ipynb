{
  "nbformat": 4,
  "nbformat_minor": 0,
  "metadata": {
    "colab": {
      "name": "2 CNN Projects : Smile detection & hand signs recognition with tensorflow/Keras",
      "provenance": [],
      "collapsed_sections": [],
      "authorship_tag": "ABX9TyNsFGIplTpVBDNTJkrsCqjP",
      "include_colab_link": true
    },
    "kernelspec": {
      "name": "python3",
      "display_name": "Python 3"
    },
    "language_info": {
      "name": "python"
    }
  },
  "cells": [
    {
      "cell_type": "markdown",
      "metadata": {
        "id": "view-in-github",
        "colab_type": "text"
      },
      "source": [
        "<a href=\"https://colab.research.google.com/github/santinon/ML-DL_perso_learn_projects/blob/main/2_CNN_Projects_Smile_detection_%26_hand_signs_recognition_with_tensorflow_Keras.ipynb\" target=\"_parent\"><img src=\"https://colab.research.google.com/assets/colab-badge.svg\" alt=\"Open In Colab\"/></a>"
      ]
    },
    {
      "cell_type": "markdown",
      "source": [
        "# CNN Applications with Keras/TF\n",
        "\n",
        "# 2 Classification Projects: \n",
        "- **Smile recognition**= Binary classification\n",
        "- **Numbers shown by hand recognition (from 0 to 5)** = Multi-class classification\n"
      ],
      "metadata": {
        "id": "EVo0JsGfmpDo"
      }
    },
    {
      "cell_type": "markdown",
      "source": [
        "A note about Tensorflow : TF a is programming framework from Google. \n",
        "\n",
        "I used this ressource for this work : A tutorial from Coursera, DeepLearning Specialization (Andrew NG), Deeplearningai"
      ],
      "metadata": {
        "id": "ElV9pjjHnG-O"
      }
    },
    {
      "cell_type": "markdown",
      "source": [
        "#### Packages/Libraries\n",
        "\n",
        "(useful for all the projects)"
      ],
      "metadata": {
        "id": "X-YNSxiEnqIr"
      }
    },
    {
      "cell_type": "code",
      "source": [
        "import math\n",
        "import numpy as np\n",
        "import h5py\n",
        "import matplotlib.pyplot as plt\n",
        "from matplotlib.pyplot import imread\n",
        "import tensorflow as tf\n",
        "from tensorflow.python.framework import ops\n",
        "from PIL import Image\n",
        "import pandas as pd\n",
        "import tensorflow as tf\n",
        "import tensorflow.keras.layers as tfl\n",
        "\n",
        "# allow to have access to the data stored already on drive of google\n",
        "from google.colab import drive\n",
        "drive.mount('/content/gdrive')"
      ],
      "metadata": {
        "colab": {
          "base_uri": "https://localhost:8080/"
        },
        "id": "8u9evAPJnb8A",
        "outputId": "9856440d-e3a6-4259-f497-aa19cdf832d2"
      },
      "execution_count": 24,
      "outputs": [
        {
          "output_type": "stream",
          "name": "stdout",
          "text": [
            "Drive already mounted at /content/gdrive; to attempt to forcibly remount, call drive.mount(\"/content/gdrive\", force_remount=True).\n"
          ]
        }
      ]
    },
    {
      "cell_type": "markdown",
      "source": [
        "#### Some functions useful for later \n",
        "\n",
        "(skip this part)"
      ],
      "metadata": {
        "id": "1lFcWhpwl7J1"
      }
    },
    {
      "cell_type": "code",
      "execution_count": 25,
      "metadata": {
        "id": "5MHKYSLOk9sn"
      },
      "outputs": [],
      "source": [
        "# this is my private path on google collab, use you own if you implement this\n",
        "# download just the 4 files from my Github before. \n",
        "path = \"/content/gdrive/MyDrive/Canada MILA/FAC/COURS UDEM MILA/Collab things/UDEM/coursera/Smile recognition   Hand numbers recognition with TF\"\n",
        "\n",
        "def load_happy_dataset():\n",
        "    train_dataset = h5py.File(path+'/train_happy.h5', \"r\")\n",
        "    train_set_x_orig = np.array(train_dataset[\"train_set_x\"][:]) # your train set features\n",
        "    train_set_y_orig = np.array(train_dataset[\"train_set_y\"][:]) # your train set labels\n",
        "\n",
        "    test_dataset = h5py.File(path+'/test_happy.h5', \"r\")\n",
        "    test_set_x_orig = np.array(test_dataset[\"test_set_x\"][:]) # your test set features\n",
        "    test_set_y_orig = np.array(test_dataset[\"test_set_y\"][:]) # your test set labels\n",
        "\n",
        "    classes = np.array(test_dataset[\"list_classes\"][:]) # the list of classes\n",
        "    \n",
        "    train_set_y_orig = train_set_y_orig.reshape((1, train_set_y_orig.shape[0]))\n",
        "    test_set_y_orig = test_set_y_orig.reshape((1, test_set_y_orig.shape[0]))\n",
        "    \n",
        "    return train_set_x_orig, train_set_y_orig, test_set_x_orig, test_set_y_orig, classes\n",
        "\n",
        "\n",
        "# this is my private path on google collab, use you own if you implement this\n",
        "# download just the 4 files from my Github before. \n",
        "def load_signs_dataset():\n",
        "    train_dataset = h5py.File(path+'/train_signs.h5', \"r\")\n",
        "    train_set_x_orig = np.array(train_dataset[\"train_set_x\"][:]) # your train set features\n",
        "    train_set_y_orig = np.array(train_dataset[\"train_set_y\"][:]) # your train set labels\n",
        "\n",
        "    test_dataset = h5py.File(path+'/test_signs.h5', \"r\")\n",
        "    test_set_x_orig = np.array(test_dataset[\"test_set_x\"][:]) # your test set features\n",
        "    test_set_y_orig = np.array(test_dataset[\"test_set_y\"][:]) # your test set labels\n",
        "\n",
        "    classes = np.array(test_dataset[\"list_classes\"][:]) # the list of classes\n",
        "    \n",
        "    train_set_y_orig = train_set_y_orig.reshape((1, train_set_y_orig.shape[0]))\n",
        "    test_set_y_orig = test_set_y_orig.reshape((1, test_set_y_orig.shape[0]))\n",
        "    \n",
        "    return train_set_x_orig, train_set_y_orig, test_set_x_orig, test_set_y_orig, classes\n",
        "\n",
        "\n",
        "def random_mini_batches(X, Y, mini_batch_size=64, seed=0):\n",
        "    \"\"\"\n",
        "    Creates a list of random minibatches from (X, Y)\n",
        "\n",
        "    Arguments:\n",
        "    X -- input data, of shape (input size, number of examples) (m, Hi, Wi, Ci)\n",
        "    Y -- true \"label\" vector (containing 0 if cat, 1 if non-cat), of shape (1, number of examples) (m, n_y)\n",
        "    mini_batch_size - size of the mini-batches, integer\n",
        "    seed -- this is only for the purpose of grading, so that you're \"random minibatches are the same as ours.\n",
        "\n",
        "    Returns:\n",
        "    mini_batches -- list of synchronous (mini_batch_X, mini_batch_Y)\n",
        "    \"\"\"\n",
        "\n",
        "    m = X.shape[0]                  # number of training examples\n",
        "    mini_batches = []\n",
        "    np.random.seed(seed)\n",
        "\n",
        "    # Step 1: Shuffle (X, Y)\n",
        "    permutation = list(np.random.permutation(m))\n",
        "    shuffled_X = X[permutation, :, :, :]\n",
        "    shuffled_Y = Y[permutation, :]\n",
        "\n",
        "    # Step 2: Partition (shuffled_X, shuffled_Y). Minus the end case.\n",
        "    # number of mini batches of size mini_batch_size in your partitionning\n",
        "    num_complete_minibatches = math.floor(m/mini_batch_size)\n",
        "    for k in range(0, num_complete_minibatches):\n",
        "        mini_batch_X = shuffled_X[k * mini_batch_size: k *\n",
        "                                  mini_batch_size + mini_batch_size, :, :, :]\n",
        "        mini_batch_Y = shuffled_Y[k * mini_batch_size: k *\n",
        "                                  mini_batch_size + mini_batch_size, :]\n",
        "        mini_batch = (mini_batch_X, mini_batch_Y)\n",
        "        mini_batches.append(mini_batch)\n",
        "\n",
        "    # Handling the end case (last mini-batch < mini_batch_size)\n",
        "    if m % mini_batch_size != 0:\n",
        "        mini_batch_X = shuffled_X[num_complete_minibatches *\n",
        "                                  mini_batch_size: m, :, :, :]\n",
        "        mini_batch_Y = shuffled_Y[num_complete_minibatches *\n",
        "                                  mini_batch_size: m, :]\n",
        "        mini_batch = (mini_batch_X, mini_batch_Y)\n",
        "        mini_batches.append(mini_batch)\n",
        "\n",
        "    return mini_batches\n",
        "\n",
        "\n",
        "def convert_to_one_hot(Y, C):\n",
        "    Y = np.eye(C)[Y.reshape(-1)].T\n",
        "    return Y\n",
        "\n",
        "\n",
        "def forward_propagation_for_predict(X, parameters):\n",
        "    \"\"\"\n",
        "    Implements the forward propagation for the model: LINEAR -> RELU -> LINEAR -> RELU -> LINEAR -> SOFTMAX\n",
        "\n",
        "    Arguments:\n",
        "    X -- input dataset placeholder, of shape (input size, number of examples)\n",
        "    parameters -- python dictionary containing your parameters \"W1\", \"b1\", \"W2\", \"b2\", \"W3\", \"b3\"\n",
        "                  the shapes are given in initialize_parameters\n",
        "\n",
        "    Returns:\n",
        "    Z3 -- the output of the last LINEAR unit\n",
        "    \"\"\"\n",
        "\n",
        "    # Retrieve the parameters from the dictionary \"parameters\"\n",
        "    W1 = parameters['W1']\n",
        "    b1 = parameters['b1']\n",
        "    W2 = parameters['W2']\n",
        "    b2 = parameters['b2']\n",
        "    W3 = parameters['W3']\n",
        "    b3 = parameters['b3']\n",
        "    # Numpy Equivalents:\n",
        "    # Z1 = np.dot(W1, X) + b1\n",
        "    Z1 = tf.add(tf.matmul(W1, X), b1)\n",
        "    A1 = tf.nn.relu(Z1)                                    # A1 = relu(Z1)\n",
        "    # Z2 = np.dot(W2, a1) + b2\n",
        "    Z2 = tf.add(tf.matmul(W2, A1), b2)\n",
        "    A2 = tf.nn.relu(Z2)                                    # A2 = relu(Z2)\n",
        "    # Z3 = np.dot(W3,Z2) + b3\n",
        "    Z3 = tf.add(tf.matmul(W3, A2), b3)\n",
        "\n",
        "    return Z3\n",
        "\n",
        "\n",
        "def predict(X, parameters):\n",
        "\n",
        "    W1 = tf.convert_to_tensor(parameters[\"W1\"])\n",
        "    b1 = tf.convert_to_tensor(parameters[\"b1\"])\n",
        "    W2 = tf.convert_to_tensor(parameters[\"W2\"])\n",
        "    b2 = tf.convert_to_tensor(parameters[\"b2\"])\n",
        "    W3 = tf.convert_to_tensor(parameters[\"W3\"])\n",
        "    b3 = tf.convert_to_tensor(parameters[\"b3\"])\n",
        "\n",
        "    params = {\"W1\": W1,\n",
        "              \"b1\": b1,\n",
        "              \"W2\": W2,\n",
        "              \"b2\": b2,\n",
        "              \"W3\": W3,\n",
        "              \"b3\": b3}\n",
        "\n",
        "    x = tf.placeholder(\"float\", [12288, 1])\n",
        "\n",
        "    z3 = forward_propagation_for_predict(x, params)\n",
        "    p = tf.argmax(z3)\n",
        "\n",
        "    sess = tf.Session()\n",
        "    prediction = sess.run(p, feed_dict={x: X})\n",
        "\n",
        "    return prediction"
      ]
    },
    {
      "cell_type": "markdown",
      "source": [
        "# o - o - o - o - o - o - o - o - o - o - o - o - o"
      ],
      "metadata": {
        "id": "I4HSZOr6To41"
      }
    },
    {
      "cell_type": "markdown",
      "source": [
        "## Note : Sequential model & Functional API\n",
        "\n",
        "Sequential model : \n",
        "\n",
        "- A Sequential model is appropriate for a plain stack of layers where each layer has exactly one input tensor and one output tensor. Sequential API requires the model to move in a linear fashion through its layers.\n",
        "\n",
        "- **Model layer-by-layer. It is very simple and easy to use. But sharing of layers or branching of layers is not allowed. Also, you can NOT have multiple inputs or outputs.**\n",
        "\n",
        "Functional API : \n",
        "\n",
        "- The Functional API can handle models with non-linear topology, shared layers, as well as layers with multiple inputs or outputs => allows much more flexibility\n",
        "\n",
        "- The Keras functional API is a way to create models that are more flexible than the tf.keras.Sequential API.\n",
        "\n",
        "- The functional API can handle models with non-linear topology, shared layers, and even multiple inputs or outputs.\n",
        "\n",
        "- The main idea is that a deep learning model is usually a directed acyclic graph (DAG) of layers. So the functional API is a way to build graphs of layers.\n",
        "\n",
        "- **Branching or sharing of layers is allowed. Can have multiple inputs and outputs**.\n"
      ],
      "metadata": {
        "id": "xcTy2oRRSKka"
      }
    },
    {
      "cell_type": "markdown",
      "source": [
        "# Project 1 : Recognizing smilling people images\n",
        "\n",
        "\n",
        "following model: `ZEROPAD2D -> CONV2D -> BATCHNORM -> RELU -> MAXPOOL -> FLATTEN -> DENSE`."
      ],
      "metadata": {
        "id": "5iAv-ODur5t3"
      }
    },
    {
      "cell_type": "markdown",
      "source": [
        "###Load the Data and Split the Data into Train/Test Sets"
      ],
      "metadata": {
        "id": "9Rj_7TLuo1Lt"
      }
    },
    {
      "cell_type": "markdown",
      "source": [
        "Happy House dataset for this part of the assignment, which contains images of peoples' faces. Your task will be to build a ConvNet that determines whether the people in the images are smiling or not"
      ],
      "metadata": {
        "id": "3dCloUH0pIWI"
      }
    },
    {
      "cell_type": "code",
      "source": [
        "X_train_orig, Y_train_orig, X_test_orig, Y_test_orig, classes = load_happy_dataset()\n",
        "\n",
        "# Normalize image vectors\n",
        "X_train = X_train_orig/255.\n",
        "X_test = X_test_orig/255.\n",
        "\n",
        "# Reshape\n",
        "Y_train = Y_train_orig.T\n",
        "Y_test = Y_test_orig.T\n",
        "\n",
        "print (\"number of training examples = \" + str(X_train.shape[0]))\n",
        "print (\"number of test examples = \" + str(X_test.shape[0]))\n",
        "print (\"X_train shape: \" + str(X_train.shape))\n",
        "print(\"Y_train_orig shape before reshaping : \", Y_train_orig.shape)\n",
        "print (\"Y_train shape: \" + str(Y_train.shape))\n",
        "print (\"X_test shape: \" + str(X_test.shape))\n",
        "print (\"Y_test shape: \" + str(Y_test.shape))"
      ],
      "metadata": {
        "colab": {
          "base_uri": "https://localhost:8080/"
        },
        "id": "Mkj5_JcKlt-T",
        "outputId": "2b5acd4f-bf73-4d2d-f9b7-f4eeefdcd074"
      },
      "execution_count": 26,
      "outputs": [
        {
          "output_type": "stream",
          "name": "stdout",
          "text": [
            "number of training examples = 600\n",
            "number of test examples = 150\n",
            "X_train shape: (600, 64, 64, 3)\n",
            "Y_train_orig shape before reshaping :  (1, 600)\n",
            "Y_train shape: (600, 1)\n",
            "X_test shape: (150, 64, 64, 3)\n",
            "Y_test shape: (150, 1)\n"
          ]
        }
      ]
    },
    {
      "cell_type": "code",
      "source": [
        "Y_train[0:5]"
      ],
      "metadata": {
        "colab": {
          "base_uri": "https://localhost:8080/"
        },
        "id": "8W533w1E20te",
        "outputId": "496a1823-77b3-4c98-d259-e9e6ae0a6dc2"
      },
      "execution_count": 27,
      "outputs": [
        {
          "output_type": "execute_result",
          "data": {
            "text/plain": [
              "array([[0],\n",
              "       [1],\n",
              "       [1],\n",
              "       [1],\n",
              "       [1]])"
            ]
          },
          "metadata": {},
          "execution_count": 27
        }
      ]
    },
    {
      "cell_type": "code",
      "source": [
        "index = 127\n",
        "plt.imshow(X_train_orig[index]) #display sample training image\n",
        "plt.show()"
      ],
      "metadata": {
        "colab": {
          "base_uri": "https://localhost:8080/",
          "height": 268
        },
        "id": "p0THM5_NolCU",
        "outputId": "798e6eb2-9c7d-4270-b516-a3e8a94d3270"
      },
      "execution_count": 28,
      "outputs": [
        {
          "output_type": "display_data",
          "data": {
            "image/png": "[encoded data removed]",
            "text/plain": [
              "<Figure size 432x288 with 1 Axes>"
            ]
          },
          "metadata": {
            "needs_background": "light"
          }
        }
      ]
    },
    {
      "cell_type": "markdown",
      "source": [
        "### Tensorflow / Keras Information: \n",
        "\n",
        "- create a model using TF Keras' Sequential API, which allows you to build layer by layer, and is ideal for building models where each layer has **exactly one** input tensor and **one** output tensor (is only appropriate for simpler, more straightforward tasks). \n",
        "\n",
        "-  think of a Sequential model as behaving like a list of layers. Like Python lists, Sequential layers are ordered, and the order in which they are specified matters.  \n",
        "\n",
        "- If your model is non-linear or contains layers with multiple inputs or outputs, a Sequential model wouldn't be the right choice!\n",
        "\n",
        "- For any layer construction in Keras, you'll need to specify the input shape in advance (shape of the weights is based on the shape of the inputs)."
      ],
      "metadata": {
        "id": "x2qCT3ijs5mh"
      }
    },
    {
      "cell_type": "markdown",
      "source": [
        "### Create the Sequential Model\n",
        "\n",
        "following model: `ZEROPAD2D -> CONV2D -> BATCHNORM -> RELU -> MAXPOOL -> FLATTEN -> DENSE`\n",
        "\n",
        "- [ZeroPadding2D](https://www.tensorflow.org/api_docs/python/tf/keras/layers/ZeroPadding2D): padding 3, input shape 64 x 64 x 3\n",
        "- [Conv2D](https://www.tensorflow.org/api_docs/python/tf/keras/layers/Conv2D): Use 32 7x7 filters, stride 1 (e.g. spatial convolution over images)\n",
        "- [BatchNormalization](https://www.tensorflow.org/api_docs/python/tf/keras/layers/BatchNormalization): for axis 3\n",
        "- [ReLU](https://www.tensorflow.org/api_docs/python/tf/keras/layers/ReLU)\n",
        "- [MaxPool2D](https://www.tensorflow.org/api_docs/python/tf/keras/layers/MaxPool2D): Using default parameters\n",
        "- [Flatten](https://www.tensorflow.org/api_docs/python/tf/keras/layers/Flatten) the previous output.\n",
        "- Fully-connected ([Dense](https://www.tensorflow.org/api_docs/python/tf/keras/layers/Dense)) layer: Apply a fully connected layer with 1 neuron and a sigmoid activation. \n"
      ],
      "metadata": {
        "id": "Zcgmwh5HuQZ3"
      }
    },
    {
      "cell_type": "code",
      "source": [
        "def happyModel():\n",
        "    \"\"\"\n",
        "    Implements the forward propagation for the binary classification model:\n",
        "    ZEROPAD2D -> CONV2D -> BATCHNORM -> RELU -> MAXPOOL -> FLATTEN -> DENSE\n",
        "    \n",
        "    Note that for simplicity and grading purposes, you'll hard-code all the values\n",
        "    such as the stride and kernel (filter) sizes. \n",
        "    Normally, functions should take these values as function parameters.\n",
        "    \n",
        "    Arguments:\n",
        "    None\n",
        "\n",
        "    Returns:\n",
        "    model -- TF Keras model (object containing the information for the entire training process) \n",
        "    \"\"\"\n",
        "\n",
        "    \n",
        "    model = tf.keras.Sequential([\n",
        "                                 \n",
        "            # input shape of 64 x 64 x 3                     \n",
        "            tf.keras.Input(shape=(64 , 64 ,3)),\n",
        "\n",
        "            # ZeroPadding2D with padding 3\n",
        "            tfl.ZeroPadding2D(padding=3),#tensorflow.keras.layers shorthand = tfl\n",
        "\n",
        "            # Conv2D with 32 7x7 filters and stride of 1\n",
        "            # (spatial convolution over images)\n",
        "            tfl.Conv2D(filters=32,kernel_size=7,strides=1),\n",
        "\n",
        "            # BatchNormalization for axis 3\n",
        "            tfl.BatchNormalization(axis=3, momentum=0.99, epsilon=0.001),\n",
        "\n",
        "            # ReLU\n",
        "            tfl.ReLU(),\n",
        "\n",
        "            # Max Pooling 2D with default parameters\n",
        "            tfl.MaxPool2D(),\n",
        "\n",
        "            # Flatten layer\n",
        "            tfl.Flatten(),\n",
        "\n",
        "            # Dense layer with 1 unit for output & 'sigmoid' activation\n",
        "            tfl.Dense(1,activation='sigmoid')\n",
        "        ])\n",
        "    \n",
        "    return model"
      ],
      "metadata": {
        "id": "TVMHwJoArf--"
      },
      "execution_count": 29,
      "outputs": []
    },
    {
      "cell_type": "markdown",
      "source": [
        "#### Compilation \n",
        "\n",
        "model is created, now you can compile it for training with an optimizer, loss and metrics of your choice. "
      ],
      "metadata": {
        "id": "2gUIQKey1JsL"
      }
    },
    {
      "cell_type": "code",
      "source": [
        "happy_model = happyModel()\n",
        "happy_model.compile(optimizer='adam',\n",
        "                   loss='binary_crossentropy',\n",
        "                   metrics=['accuracy'])"
      ],
      "metadata": {
        "id": "kBpNn0pl1hc1"
      },
      "execution_count": 30,
      "outputs": []
    },
    {
      "cell_type": "markdown",
      "source": [
        "#### check the layers"
      ],
      "metadata": {
        "id": "VchuhUVU1uK3"
      }
    },
    {
      "cell_type": "code",
      "source": [
        "# Print a summary for each layer\n",
        "happy_model.summary()"
      ],
      "metadata": {
        "colab": {
          "base_uri": "https://localhost:8080/"
        },
        "id": "1_W1EAFmxkTM",
        "outputId": "e1fabdc7-9cb4-4467-fe42-dd00d71f5d62"
      },
      "execution_count": 31,
      "outputs": [
        {
          "output_type": "stream",
          "name": "stdout",
          "text": [
            "Model: \"sequential_1\"\n",
            "_________________________________________________________________\n",
            " Layer (type)                Output Shape              Param #   \n",
            "=================================================================\n",
            " zero_padding2d_1 (ZeroPaddi  (None, 70, 70, 3)        0         \n",
            " ng2D)                                                           \n",
            "                                                                 \n",
            " conv2d_3 (Conv2D)           (None, 64, 64, 32)        4736      \n",
            "                                                                 \n",
            " batch_normalization_1 (Batc  (None, 64, 64, 32)       128       \n",
            " hNormalization)                                                 \n",
            "                                                                 \n",
            " re_lu_3 (ReLU)              (None, 64, 64, 32)        0         \n",
            "                                                                 \n",
            " max_pooling2d_3 (MaxPooling  (None, 32, 32, 32)       0         \n",
            " 2D)                                                             \n",
            "                                                                 \n",
            " flatten_2 (Flatten)         (None, 32768)             0         \n",
            "                                                                 \n",
            " dense_2 (Dense)             (None, 1)                 32769     \n",
            "                                                                 \n",
            "=================================================================\n",
            "Total params: 37,633\n",
            "Trainable params: 37,569\n",
            "Non-trainable params: 64\n",
            "_________________________________________________________________\n"
          ]
        }
      ]
    },
    {
      "cell_type": "markdown",
      "source": [
        "### Train and Evaluate the Model"
      ],
      "metadata": {
        "id": "qmKpG93S14z1"
      }
    },
    {
      "cell_type": "code",
      "source": [
        "happy_model.fit(X_train, Y_train, epochs=10, batch_size=16)"
      ],
      "metadata": {
        "colab": {
          "base_uri": "https://localhost:8080/"
        },
        "id": "sHBZevcv16rd",
        "outputId": "f23bdcf3-dba9-425e-e096-d356631a4152"
      },
      "execution_count": 32,
      "outputs": [
        {
          "output_type": "stream",
          "name": "stdout",
          "text": [
            "Epoch 1/10\n",
            "38/38 [==============================] - 9s 170ms/step - loss: 1.1977 - accuracy: 0.7167\n",
            "Epoch 2/10\n",
            "38/38 [==============================] - 7s 182ms/step - loss: 0.1853 - accuracy: 0.9383\n",
            "Epoch 3/10\n",
            "38/38 [==============================] - 6s 169ms/step - loss: 0.1564 - accuracy: 0.9400\n",
            "Epoch 4/10\n",
            "38/38 [==============================] - 6s 164ms/step - loss: 0.1155 - accuracy: 0.9533\n",
            "Epoch 5/10\n",
            "38/38 [==============================] - 6s 164ms/step - loss: 0.0999 - accuracy: 0.9667\n",
            "Epoch 6/10\n",
            "38/38 [==============================] - 6s 157ms/step - loss: 0.1010 - accuracy: 0.9600\n",
            "Epoch 7/10\n",
            "38/38 [==============================] - 6s 158ms/step - loss: 0.1060 - accuracy: 0.9683\n",
            "Epoch 8/10\n",
            "38/38 [==============================] - 6s 157ms/step - loss: 0.2909 - accuracy: 0.9067\n",
            "Epoch 9/10\n",
            "38/38 [==============================] - 6s 148ms/step - loss: 0.1104 - accuracy: 0.9567\n",
            "Epoch 10/10\n",
            "38/38 [==============================] - 6s 169ms/step - loss: 0.1100 - accuracy: 0.9500\n"
          ]
        },
        {
          "output_type": "execute_result",
          "data": {
            "text/plain": [
              "<keras.callbacks.History at 0x7f03a8fe8b10>"
            ]
          },
          "metadata": {},
          "execution_count": 32
        }
      ]
    },
    {
      "cell_type": "code",
      "source": [
        "# binary_crossentropy and the accuracy respectively\n",
        "happy_model.evaluate(X_test, Y_test)"
      ],
      "metadata": {
        "colab": {
          "base_uri": "https://localhost:8080/"
        },
        "id": "TT7v0Ybl3Pyv",
        "outputId": "f9a8928f-a620-4b9d-950e-856207ea645c"
      },
      "execution_count": 33,
      "outputs": [
        {
          "output_type": "stream",
          "name": "stdout",
          "text": [
            "5/5 [==============================] - 1s 74ms/step - loss: 0.1218 - accuracy: 0.9467\n"
          ]
        },
        {
          "output_type": "execute_result",
          "data": {
            "text/plain": [
              "[0.12177974730730057, 0.9466666579246521]"
            ]
          },
          "metadata": {},
          "execution_count": 33
        }
      ]
    },
    {
      "cell_type": "markdown",
      "source": [
        "# Project 2:  Hand signs indicating numbers from 0 to 5 (6 classes classification) with Tensorflow"
      ],
      "metadata": {
        "id": "551no0U_oXxn"
      }
    },
    {
      "cell_type": "markdown",
      "source": [
        "**Sequential model**\n",
        "- A Sequential model is appropriate for a plain stack of layers where each layer has exactly one input tensor and one output tensor. Sequential API requires the model to move in a linear fashion through its layers.\n",
        "\n",
        "\n",
        "**Functional API**\n",
        "- The Functional API can handle models with non-linear topology, shared layers, as well as layers with multiple inputs or outputs => allows much more flexibility \n",
        "\n",
        "- The Keras functional API is a way to create models that are more flexible than the tf.keras.Sequential API. \n",
        "\n",
        "- The functional API can handle models with non-linear topology, shared layers, and even multiple inputs or outputs.\n",
        "\n",
        "- The main idea is that a deep learning model is usually a directed acyclic graph (DAG) of layers. So the functional API is a way to build graphs of layers.\n"
      ],
      "metadata": {
        "id": "dBTyBDYU5LGO"
      }
    },
    {
      "cell_type": "markdown",
      "source": [
        "## Load the SIGNS Dataset\n",
        "\n"
      ],
      "metadata": {
        "id": "W9UbFwZ6CGFP"
      }
    },
    {
      "cell_type": "code",
      "source": [
        "# Loading the data (signs)\n",
        "X_train_orig, Y_train_orig, X_test_orig, Y_test_orig, classes = load_signs_dataset()"
      ],
      "metadata": {
        "id": "maKxA20D5J8B"
      },
      "execution_count": 34,
      "outputs": []
    },
    {
      "cell_type": "code",
      "source": [
        "# Example of an image from the dataset\n",
        "index = 12\n",
        "plt.imshow(X_train_orig[index])\n",
        "print (\"y = \" + str(np.squeeze(Y_train_orig[:, index])))"
      ],
      "metadata": {
        "colab": {
          "base_uri": "https://localhost:8080/",
          "height": 285
        },
        "id": "Yb672FHnCIv6",
        "outputId": "cdbe8e95-3663-423b-c082-b81577dcd736"
      },
      "execution_count": 35,
      "outputs": [
        {
          "output_type": "stream",
          "name": "stdout",
          "text": [
            "y = 5\n"
          ]
        },
        {
          "output_type": "display_data",
          "data": {
            "image/png": "[encoded data removed]",
            "text/plain": [
              "<Figure size 432x288 with 1 Axes>"
            ]
          },
          "metadata": {
            "needs_background": "light"
          }
        }
      ]
    },
    {
      "cell_type": "markdown",
      "source": [
        "## Split the Data into Train/Test Sets"
      ],
      "metadata": {
        "id": "qQ28pXS9EfiQ"
      }
    },
    {
      "cell_type": "code",
      "source": [
        "X_train = X_train_orig/255.\n",
        "X_test = X_test_orig/255.\n",
        "\n",
        "Y_train = convert_to_one_hot(Y_train_orig, 6).T\n",
        "Y_test = convert_to_one_hot(Y_test_orig, 6).T\n",
        "\n",
        "print (\"number of training examples = \" + str(X_train.shape[0]))\n",
        "print (\"number of test examples = \" + str(X_test.shape[0]))\n",
        "print (\"X_train shape: \" + str(X_train.shape))\n",
        "print(\"\\nY_train_orig looks like :\", Y_train_orig)\n",
        "print (\"Y_train_orig shape: \" + str(Y_train_orig.shape))\n",
        "print (\"Y_train shape: \" + str(Y_train.shape))\n",
        "print(\"Y_train\", Y_train)\n",
        "print (\"\\nX_test shape: \" + str(X_test.shape))\n",
        "print (\"Y_test shape: \" + str(Y_test.shape))"
      ],
      "metadata": {
        "colab": {
          "base_uri": "https://localhost:8080/"
        },
        "id": "h0IeVuegCLBh",
        "outputId": "43d73a46-1653-43e1-860d-6744157237cf"
      },
      "execution_count": 36,
      "outputs": [
        {
          "output_type": "stream",
          "name": "stdout",
          "text": [
            "number of training examples = 1080\n",
            "number of test examples = 120\n",
            "X_train shape: (1080, 64, 64, 3)\n",
            "\n",
            "Y_train_orig looks like : [[5 0 2 ... 2 4 5]]\n",
            "Y_train_orig shape: (1, 1080)\n",
            "Y_train shape: (1080, 6)\n",
            "Y_train [[0. 0. 0. 0. 0. 1.]\n",
            " [1. 0. 0. 0. 0. 0.]\n",
            " [0. 0. 1. 0. 0. 0.]\n",
            " ...\n",
            " [0. 0. 1. 0. 0. 0.]\n",
            " [0. 0. 0. 0. 1. 0.]\n",
            " [0. 0. 0. 0. 0. 1.]]\n",
            "\n",
            "X_test shape: (120, 64, 64, 3)\n",
            "Y_test shape: (120, 6)\n"
          ]
        }
      ]
    },
    {
      "cell_type": "markdown",
      "source": [
        "## Forward Propagation (Convolutional Model)\n",
        "\n",
        "Begin building your graph of layers by creating an input node that functions as a callable object:\n",
        "\n",
        "- **input_img = tf.keras.Input(shape=input_shape):** \n",
        "\n",
        "Then, create a new node in the graph of layers by calling a layer on the `input_img` object: \n",
        "\n",
        "- **tf.keras.layers.Conv2D(filters= ... , kernel_size= ... , padding='same')(input_img):** Read the full documentation on [Conv2D](https://www.tensorflow.org/api_docs/python/tf/keras/layers/Conv2D).\n",
        "\n",
        "- **tf.keras.layers.MaxPool2D(pool_size=(f, f), strides=(s, s), padding='same'):** `MaxPool2D()` downsamples your input using a window of size (f, f) and strides of size (s, s) to carry out max pooling over each window.  For max pooling, you usually operate on a single example at a time and a single channel at a time. Read the full documentation on [MaxPool2D](https://www.tensorflow.org/api_docs/python/tf/keras/layers/MaxPool2D).\n",
        "\n",
        "- **tf.keras.layers.ReLU():** computes the elementwise ReLU of Z (which can be any shape). You can read the full documentation on [ReLU](https://www.tensorflow.org/api_docs/python/tf/keras/layers/ReLU).\n",
        "\n",
        "- **tf.keras.layers.Flatten()**: given a tensor \"P\", this function takes each training (or test) example in the batch and flattens it into a 1D vector.  \n",
        "\n",
        "    * If a tensor P has the shape (batch_size,h,w,c), it returns a flattened tensor with shape (batch_size, k), where k=h * w *  c.  \"k\" equals the product of all the dimension sizes other than the first dimension.\n",
        "    \n",
        "    * For example, given a tensor with dimensions [100, 2, 3, 4], it flattens the tensor to be of shape [100, 24], where 24 = 2 * 3 * 4.  You can read the full documentation on [Flatten](https://www.tensorflow.org/api_docs/python/tf/keras/layers/Flatten).\n",
        "\n",
        "- **tf.keras.layers.Dense(units= ... , activation='softmax')(F):** given the flattened input F, it returns the **output** computed using a fully connected layer. You can read the full documentation on [Dense](https://www.tensorflow.org/api_docs/python/tf/keras/layers/Dense).\n",
        "\n",
        "\n",
        "#### **Window, kernel, filter, pool**\n",
        "\n",
        "The words \"kernel\" and \"filter\" are used to refer to the same thing. The word \"filter\" accounts for the amount of \"kernels\" that will be used in a single convolution layer. \"Pool\" is the name of the operation that takes the max or average value of the kernels. \n",
        "\n",
        "This is why the parameter `pool_size` refers to `kernel_size`, and you use `(f,f)` to refer to the filter size. \n",
        "\n",
        "Pool size and kernel size refer to the same thing in different objects - They refer to the shape of the window where the operation takes place. "
      ],
      "metadata": {
        "id": "4QgWrKckGmsf"
      }
    },
    {
      "cell_type": "markdown",
      "source": [
        "the following model: `CONV2D -> RELU -> MAXPOOL -> CONV2D -> RELU -> MAXPOOL -> FLATTEN -> DENSE`\n",
        "\n",
        " - [Conv2D](https://www.tensorflow.org/api_docs/python/tf/keras/layers/Conv2D): Use 8 4 by 4 filters, stride 1, padding is \"SAME\"\n",
        " - [ReLU](https://www.tensorflow.org/api_docs/python/tf/keras/layers/ReLU)\n",
        " - [MaxPool2D](https://www.tensorflow.org/api_docs/python/tf/keras/layers/MaxPool2D): Use an 8 by 8 filter size and an 8 by 8 stride, padding is \"SAME\"\n",
        " - **Conv2D**: Use 16 2 by 2 filters, stride 1, padding is \"SAME\"\n",
        " - **ReLU**\n",
        " - **MaxPool2D**: Use a 4 by 4 filter size and a 4 by 4 stride, padding is \"SAME\"\n",
        " - [Flatten](https://www.tensorflow.org/api_docs/python/tf/keras/layers/Flatten) the previous output.\n",
        " - Fully-connected ([Dense](https://www.tensorflow.org/api_docs/python/tf/keras/layers/Dense)) layer: Apply a fully connected layer with 6 neurons and a softmax activation. "
      ],
      "metadata": {
        "id": "ZleBego8NMua"
      }
    },
    {
      "cell_type": "code",
      "source": [
        "def convolutional_model(input_shape):\n",
        "    \"\"\"\n",
        "    Implements the forward propagation for the model:\n",
        "    CONV2D -> RELU -> MAXPOOL -> CONV2D -> RELU -> MAXPOOL -> FLATTEN -> DENSE\n",
        "    \n",
        "    Note that for simplicity and grading purposes, you'll hard-code some values\n",
        "    such as the stride and kernel (filter) sizes. \n",
        "    Normally, functions should take these values as function parameters.\n",
        "    \n",
        "    Arguments:\n",
        "    input_img -- input dataset, of shape (input_shape)\n",
        "\n",
        "    Returns:\n",
        "    model -- TF Keras model (object containing the information for the entire training process) \n",
        "    \"\"\"\n",
        "\n",
        "\n",
        "    input_img = tf.keras.Input(shape=input_shape)\n",
        "    \n",
        "    # CONV2D: 8 filters 4x4, stride of 1, padding 'SAME'\n",
        "    # note : the size of the output image is equal to the input image = \"SAME\"\n",
        "    Z1 = tfl.Conv2D(filters= 8. , kernel_size=4 , padding='same',strides=1)(input_img)\n",
        "\n",
        "    # RELU\n",
        "    A1 = tfl.ReLU()(Z1)\n",
        "\n",
        "    # MAXPOOL: window 8x8, stride 8, padding 'SAME'\n",
        "    P1 = tfl.MaxPool2D(pool_size=8, strides=8, padding='SAME')(A1)\n",
        "\n",
        "    # CONV2D: 16 filters 2x2, stride 1, padding 'SAME'\n",
        "    Z2 = tfl.Conv2D(filters= 16. , kernel_size=2 , padding='same',strides=1)(P1)\n",
        "\n",
        "    # RELU\n",
        "    A2 =  tfl.ReLU()(Z2)\n",
        "\n",
        "    # MAXPOOL: window 4x4, stride 4, padding 'SAME'\n",
        "    P2 = tfl.MaxPool2D(pool_size=4, strides=4, padding='SAME')(A2)\n",
        "\n",
        "    # FLATTEN\n",
        "    F = tfl.Flatten()(P2)\n",
        "\n",
        "    # Dense layer with 6 neurons in output layer\n",
        "    outputs = tfl.Dense(units= 6 , activation='softmax')(F)\n",
        "    model = tf.keras.Model(inputs=input_img, outputs=outputs)    \n",
        "    \n",
        "    return model"
      ],
      "metadata": {
        "id": "gHPOQJ3TEkLb"
      },
      "execution_count": 37,
      "outputs": []
    },
    {
      "cell_type": "code",
      "source": [
        "conv_model = convolutional_model((64, 64, 3))\n",
        "\n",
        "conv_model.compile(optimizer='adam',\n",
        "                  loss='categorical_crossentropy',\n",
        "                  metrics=['accuracy'])\n",
        "\n",
        "conv_model.summary()"
      ],
      "metadata": {
        "colab": {
          "base_uri": "https://localhost:8080/"
        },
        "id": "DH5ysaO9OO0o",
        "outputId": "c2249535-cfe4-4545-dca8-0263ee7c21f5"
      },
      "execution_count": 38,
      "outputs": [
        {
          "output_type": "stream",
          "name": "stdout",
          "text": [
            "Model: \"model_1\"\n",
            "_________________________________________________________________\n",
            " Layer (type)                Output Shape              Param #   \n",
            "=================================================================\n",
            " input_4 (InputLayer)        [(None, 64, 64, 3)]       0         \n",
            "                                                                 \n",
            " conv2d_4 (Conv2D)           (None, 64, 64, 8)         392       \n",
            "                                                                 \n",
            " re_lu_4 (ReLU)              (None, 64, 64, 8)         0         \n",
            "                                                                 \n",
            " max_pooling2d_4 (MaxPooling  (None, 8, 8, 8)          0         \n",
            " 2D)                                                             \n",
            "                                                                 \n",
            " conv2d_5 (Conv2D)           (None, 8, 8, 16)          528       \n",
            "                                                                 \n",
            " re_lu_5 (ReLU)              (None, 8, 8, 16)          0         \n",
            "                                                                 \n",
            " max_pooling2d_5 (MaxPooling  (None, 2, 2, 16)         0         \n",
            " 2D)                                                             \n",
            "                                                                 \n",
            " flatten_3 (Flatten)         (None, 64)                0         \n",
            "                                                                 \n",
            " dense_3 (Dense)             (None, 6)                 390       \n",
            "                                                                 \n",
            "=================================================================\n",
            "Total params: 1,310\n",
            "Trainable params: 1,310\n",
            "Non-trainable params: 0\n",
            "_________________________________________________________________\n"
          ]
        }
      ]
    },
    {
      "cell_type": "markdown",
      "source": [
        "## Train the Model"
      ],
      "metadata": {
        "id": "1VwULw6YQLmK"
      }
    },
    {
      "cell_type": "code",
      "source": [
        "train_dataset = tf.data.Dataset.from_tensor_slices((X_train, Y_train)).batch(64)\n",
        "test_dataset = tf.data.Dataset.from_tensor_slices((X_test, Y_test)).batch(64)\n",
        "history = conv_model.fit(train_dataset, epochs=100, validation_data=test_dataset)"
      ],
      "metadata": {
        "colab": {
          "base_uri": "https://localhost:8080/"
        },
        "id": "LOw0zBz9OQxh",
        "outputId": "bf9b3361-79a8-49b5-bf6e-a0d7cd96c6b3"
      },
      "execution_count": 39,
      "outputs": [
        {
          "output_type": "stream",
          "name": "stdout",
          "text": [
            "Epoch 1/100\n",
            "17/17 [==============================] - 5s 262ms/step - loss: 1.8060 - accuracy: 0.1667 - val_loss: 1.7893 - val_accuracy: 0.1667\n",
            "Epoch 2/100\n",
            "17/17 [==============================] - 3s 206ms/step - loss: 1.7865 - accuracy: 0.2546 - val_loss: 1.7809 - val_accuracy: 0.3250\n",
            "Epoch 3/100\n",
            "17/17 [==============================] - 4s 216ms/step - loss: 1.7786 - accuracy: 0.3102 - val_loss: 1.7740 - val_accuracy: 0.3417\n",
            "Epoch 4/100\n",
            "17/17 [==============================] - 3s 203ms/step - loss: 1.7712 - accuracy: 0.3213 - val_loss: 1.7670 - val_accuracy: 0.3833\n",
            "Epoch 5/100\n",
            "17/17 [==============================] - 2s 148ms/step - loss: 1.7639 - accuracy: 0.3731 - val_loss: 1.7590 - val_accuracy: 0.4000\n",
            "Epoch 6/100\n",
            "17/17 [==============================] - 3s 172ms/step - loss: 1.7555 - accuracy: 0.4222 - val_loss: 1.7493 - val_accuracy: 0.4083\n",
            "Epoch 7/100\n",
            "17/17 [==============================] - 3s 166ms/step - loss: 1.7455 - accuracy: 0.4389 - val_loss: 1.7378 - val_accuracy: 0.4583\n",
            "Epoch 8/100\n",
            "17/17 [==============================] - 3s 167ms/step - loss: 1.7331 - accuracy: 0.4472 - val_loss: 1.7241 - val_accuracy: 0.4833\n",
            "Epoch 9/100\n",
            "17/17 [==============================] - 3s 165ms/step - loss: 1.7177 - accuracy: 0.4731 - val_loss: 1.7081 - val_accuracy: 0.4667\n",
            "Epoch 10/100\n",
            "17/17 [==============================] - 3s 167ms/step - loss: 1.7003 - accuracy: 0.4954 - val_loss: 1.6887 - val_accuracy: 0.4667\n",
            "Epoch 11/100\n",
            "17/17 [==============================] - 3s 152ms/step - loss: 1.6782 - accuracy: 0.5139 - val_loss: 1.6637 - val_accuracy: 0.5000\n",
            "Epoch 12/100\n",
            "17/17 [==============================] - 3s 159ms/step - loss: 1.6515 - accuracy: 0.5278 - val_loss: 1.6322 - val_accuracy: 0.5583\n",
            "Epoch 13/100\n",
            "17/17 [==============================] - 3s 176ms/step - loss: 1.6196 - accuracy: 0.5417 - val_loss: 1.5963 - val_accuracy: 0.5667\n",
            "Epoch 14/100\n",
            "17/17 [==============================] - 7s 397ms/step - loss: 1.5823 - accuracy: 0.5546 - val_loss: 1.5565 - val_accuracy: 0.5583\n",
            "Epoch 15/100\n",
            "17/17 [==============================] - 3s 200ms/step - loss: 1.5411 - accuracy: 0.5620 - val_loss: 1.5118 - val_accuracy: 0.5417\n",
            "Epoch 16/100\n",
            "17/17 [==============================] - 3s 195ms/step - loss: 1.4960 - accuracy: 0.5593 - val_loss: 1.4629 - val_accuracy: 0.5750\n",
            "Epoch 17/100\n",
            "17/17 [==============================] - 3s 202ms/step - loss: 1.4475 - accuracy: 0.5796 - val_loss: 1.4147 - val_accuracy: 0.5667\n",
            "Epoch 18/100\n",
            "17/17 [==============================] - 3s 170ms/step - loss: 1.3966 - accuracy: 0.5759 - val_loss: 1.3638 - val_accuracy: 0.5667\n",
            "Epoch 19/100\n",
            "17/17 [==============================] - 3s 174ms/step - loss: 1.3458 - accuracy: 0.5944 - val_loss: 1.3118 - val_accuracy: 0.5667\n",
            "Epoch 20/100\n",
            "17/17 [==============================] - 3s 183ms/step - loss: 1.2926 - accuracy: 0.6046 - val_loss: 1.2608 - val_accuracy: 0.5917\n",
            "Epoch 21/100\n",
            "17/17 [==============================] - 3s 201ms/step - loss: 1.2401 - accuracy: 0.6167 - val_loss: 1.2097 - val_accuracy: 0.6167\n",
            "Epoch 22/100\n",
            "17/17 [==============================] - 3s 170ms/step - loss: 1.1902 - accuracy: 0.6269 - val_loss: 1.1629 - val_accuracy: 0.6083\n",
            "Epoch 23/100\n",
            "17/17 [==============================] - 3s 159ms/step - loss: 1.1439 - accuracy: 0.6435 - val_loss: 1.1199 - val_accuracy: 0.6000\n",
            "Epoch 24/100\n",
            "17/17 [==============================] - 2s 147ms/step - loss: 1.1008 - accuracy: 0.6565 - val_loss: 1.0807 - val_accuracy: 0.6167\n",
            "Epoch 25/100\n",
            "17/17 [==============================] - 3s 151ms/step - loss: 1.0610 - accuracy: 0.6676 - val_loss: 1.0437 - val_accuracy: 0.6167\n",
            "Epoch 26/100\n",
            "17/17 [==============================] - 3s 176ms/step - loss: 1.0242 - accuracy: 0.6722 - val_loss: 1.0093 - val_accuracy: 0.6083\n",
            "Epoch 27/100\n",
            "17/17 [==============================] - 2s 145ms/step - loss: 0.9905 - accuracy: 0.6843 - val_loss: 0.9780 - val_accuracy: 0.6250\n",
            "Epoch 28/100\n",
            "17/17 [==============================] - 2s 148ms/step - loss: 0.9606 - accuracy: 0.6907 - val_loss: 0.9497 - val_accuracy: 0.6667\n",
            "Epoch 29/100\n",
            "17/17 [==============================] - 3s 171ms/step - loss: 0.9330 - accuracy: 0.6963 - val_loss: 0.9236 - val_accuracy: 0.6750\n",
            "Epoch 30/100\n",
            "17/17 [==============================] - 3s 162ms/step - loss: 0.9075 - accuracy: 0.7037 - val_loss: 0.8998 - val_accuracy: 0.6833\n",
            "Epoch 31/100\n",
            "17/17 [==============================] - 3s 186ms/step - loss: 0.8838 - accuracy: 0.7074 - val_loss: 0.8778 - val_accuracy: 0.6833\n",
            "Epoch 32/100\n",
            "17/17 [==============================] - 3s 169ms/step - loss: 0.8618 - accuracy: 0.7194 - val_loss: 0.8582 - val_accuracy: 0.6917\n",
            "Epoch 33/100\n",
            "17/17 [==============================] - 3s 153ms/step - loss: 0.8413 - accuracy: 0.7222 - val_loss: 0.8385 - val_accuracy: 0.6833\n",
            "Epoch 34/100\n",
            "17/17 [==============================] - 3s 162ms/step - loss: 0.8214 - accuracy: 0.7259 - val_loss: 0.8216 - val_accuracy: 0.6917\n",
            "Epoch 35/100\n",
            "17/17 [==============================] - 3s 155ms/step - loss: 0.8036 - accuracy: 0.7315 - val_loss: 0.8045 - val_accuracy: 0.6917\n",
            "Epoch 36/100\n",
            "17/17 [==============================] - 3s 150ms/step - loss: 0.7869 - accuracy: 0.7389 - val_loss: 0.7877 - val_accuracy: 0.7000\n",
            "Epoch 37/100\n",
            "17/17 [==============================] - 2s 139ms/step - loss: 0.7707 - accuracy: 0.7454 - val_loss: 0.7720 - val_accuracy: 0.7000\n",
            "Epoch 38/100\n",
            "17/17 [==============================] - 3s 149ms/step - loss: 0.7552 - accuracy: 0.7491 - val_loss: 0.7574 - val_accuracy: 0.7083\n",
            "Epoch 39/100\n",
            "17/17 [==============================] - 3s 160ms/step - loss: 0.7405 - accuracy: 0.7528 - val_loss: 0.7442 - val_accuracy: 0.7250\n",
            "Epoch 40/100\n",
            "17/17 [==============================] - 3s 156ms/step - loss: 0.7268 - accuracy: 0.7583 - val_loss: 0.7311 - val_accuracy: 0.7333\n",
            "Epoch 41/100\n",
            "17/17 [==============================] - 3s 149ms/step - loss: 0.7139 - accuracy: 0.7602 - val_loss: 0.7193 - val_accuracy: 0.7500\n",
            "Epoch 42/100\n",
            "17/17 [==============================] - 2s 142ms/step - loss: 0.7014 - accuracy: 0.7639 - val_loss: 0.7065 - val_accuracy: 0.7500\n",
            "Epoch 43/100\n",
            "17/17 [==============================] - 3s 150ms/step - loss: 0.6891 - accuracy: 0.7657 - val_loss: 0.6955 - val_accuracy: 0.7667\n",
            "Epoch 44/100\n",
            "17/17 [==============================] - 2s 141ms/step - loss: 0.6773 - accuracy: 0.7713 - val_loss: 0.6836 - val_accuracy: 0.7667\n",
            "Epoch 45/100\n",
            "17/17 [==============================] - 3s 154ms/step - loss: 0.6658 - accuracy: 0.7787 - val_loss: 0.6725 - val_accuracy: 0.7833\n",
            "Epoch 46/100\n",
            "17/17 [==============================] - 2s 132ms/step - loss: 0.6551 - accuracy: 0.7833 - val_loss: 0.6620 - val_accuracy: 0.7833\n",
            "Epoch 47/100\n",
            "17/17 [==============================] - 3s 165ms/step - loss: 0.6443 - accuracy: 0.7907 - val_loss: 0.6517 - val_accuracy: 0.7833\n",
            "Epoch 48/100\n",
            "17/17 [==============================] - 3s 178ms/step - loss: 0.6344 - accuracy: 0.7963 - val_loss: 0.6425 - val_accuracy: 0.7833\n",
            "Epoch 49/100\n",
            "17/17 [==============================] - 4s 218ms/step - loss: 0.6244 - accuracy: 0.8000 - val_loss: 0.6333 - val_accuracy: 0.7833\n",
            "Epoch 50/100\n",
            "17/17 [==============================] - 4s 211ms/step - loss: 0.6147 - accuracy: 0.8056 - val_loss: 0.6239 - val_accuracy: 0.7917\n",
            "Epoch 51/100\n",
            "17/17 [==============================] - 3s 159ms/step - loss: 0.6055 - accuracy: 0.8111 - val_loss: 0.6154 - val_accuracy: 0.8083\n",
            "Epoch 52/100\n",
            "17/17 [==============================] - 3s 169ms/step - loss: 0.5963 - accuracy: 0.8130 - val_loss: 0.6069 - val_accuracy: 0.8083\n",
            "Epoch 53/100\n",
            "17/17 [==============================] - 3s 161ms/step - loss: 0.5879 - accuracy: 0.8167 - val_loss: 0.5988 - val_accuracy: 0.8000\n",
            "Epoch 54/100\n",
            "17/17 [==============================] - 3s 183ms/step - loss: 0.5795 - accuracy: 0.8185 - val_loss: 0.5913 - val_accuracy: 0.8000\n",
            "Epoch 55/100\n",
            "17/17 [==============================] - 3s 157ms/step - loss: 0.5713 - accuracy: 0.8241 - val_loss: 0.5835 - val_accuracy: 0.8000\n",
            "Epoch 56/100\n",
            "17/17 [==============================] - 3s 177ms/step - loss: 0.5633 - accuracy: 0.8250 - val_loss: 0.5764 - val_accuracy: 0.8000\n",
            "Epoch 57/100\n",
            "17/17 [==============================] - 3s 179ms/step - loss: 0.5557 - accuracy: 0.8278 - val_loss: 0.5689 - val_accuracy: 0.8000\n",
            "Epoch 58/100\n",
            "17/17 [==============================] - 3s 168ms/step - loss: 0.5481 - accuracy: 0.8324 - val_loss: 0.5612 - val_accuracy: 0.8083\n",
            "Epoch 59/100\n",
            "17/17 [==============================] - 3s 209ms/step - loss: 0.5410 - accuracy: 0.8343 - val_loss: 0.5541 - val_accuracy: 0.8000\n",
            "Epoch 60/100\n",
            "17/17 [==============================] - 3s 176ms/step - loss: 0.5338 - accuracy: 0.8352 - val_loss: 0.5467 - val_accuracy: 0.8083\n",
            "Epoch 61/100\n",
            "17/17 [==============================] - 3s 194ms/step - loss: 0.5265 - accuracy: 0.8380 - val_loss: 0.5397 - val_accuracy: 0.8000\n",
            "Epoch 62/100\n",
            "17/17 [==============================] - 4s 224ms/step - loss: 0.5199 - accuracy: 0.8380 - val_loss: 0.5334 - val_accuracy: 0.8000\n",
            "Epoch 63/100\n",
            "17/17 [==============================] - 4s 256ms/step - loss: 0.5131 - accuracy: 0.8417 - val_loss: 0.5271 - val_accuracy: 0.8083\n",
            "Epoch 64/100\n",
            "17/17 [==============================] - 4s 230ms/step - loss: 0.5067 - accuracy: 0.8454 - val_loss: 0.5211 - val_accuracy: 0.8083\n",
            "Epoch 65/100\n",
            "17/17 [==============================] - 3s 180ms/step - loss: 0.5001 - accuracy: 0.8472 - val_loss: 0.5151 - val_accuracy: 0.8167\n",
            "Epoch 66/100\n",
            "17/17 [==============================] - 3s 187ms/step - loss: 0.4941 - accuracy: 0.8491 - val_loss: 0.5090 - val_accuracy: 0.8250\n",
            "Epoch 67/100\n",
            "17/17 [==============================] - 3s 176ms/step - loss: 0.4877 - accuracy: 0.8509 - val_loss: 0.5035 - val_accuracy: 0.8167\n",
            "Epoch 68/100\n",
            "17/17 [==============================] - 3s 165ms/step - loss: 0.4815 - accuracy: 0.8528 - val_loss: 0.4980 - val_accuracy: 0.8250\n",
            "Epoch 69/100\n",
            "17/17 [==============================] - 3s 207ms/step - loss: 0.4757 - accuracy: 0.8583 - val_loss: 0.4923 - val_accuracy: 0.8250\n",
            "Epoch 70/100\n",
            "17/17 [==============================] - 3s 190ms/step - loss: 0.4698 - accuracy: 0.8602 - val_loss: 0.4868 - val_accuracy: 0.8333\n",
            "Epoch 71/100\n",
            "17/17 [==============================] - 3s 155ms/step - loss: 0.4639 - accuracy: 0.8620 - val_loss: 0.4812 - val_accuracy: 0.8333\n",
            "Epoch 72/100\n",
            "17/17 [==============================] - 3s 162ms/step - loss: 0.4583 - accuracy: 0.8657 - val_loss: 0.4760 - val_accuracy: 0.8333\n",
            "Epoch 73/100\n",
            "17/17 [==============================] - 2s 135ms/step - loss: 0.4526 - accuracy: 0.8667 - val_loss: 0.4715 - val_accuracy: 0.8333\n",
            "Epoch 74/100\n",
            "17/17 [==============================] - 2s 143ms/step - loss: 0.4470 - accuracy: 0.8676 - val_loss: 0.4673 - val_accuracy: 0.8333\n",
            "Epoch 75/100\n",
            "17/17 [==============================] - 3s 165ms/step - loss: 0.4421 - accuracy: 0.8667 - val_loss: 0.4630 - val_accuracy: 0.8333\n",
            "Epoch 76/100\n",
            "17/17 [==============================] - 3s 157ms/step - loss: 0.4369 - accuracy: 0.8685 - val_loss: 0.4587 - val_accuracy: 0.8333\n",
            "Epoch 77/100\n",
            "17/17 [==============================] - 4s 220ms/step - loss: 0.4322 - accuracy: 0.8731 - val_loss: 0.4538 - val_accuracy: 0.8333\n",
            "Epoch 78/100\n",
            "17/17 [==============================] - 4s 233ms/step - loss: 0.4273 - accuracy: 0.8750 - val_loss: 0.4494 - val_accuracy: 0.8333\n",
            "Epoch 79/100\n",
            "17/17 [==============================] - 3s 185ms/step - loss: 0.4227 - accuracy: 0.8769 - val_loss: 0.4454 - val_accuracy: 0.8333\n",
            "Epoch 80/100\n",
            "17/17 [==============================] - 3s 162ms/step - loss: 0.4181 - accuracy: 0.8787 - val_loss: 0.4417 - val_accuracy: 0.8333\n",
            "Epoch 81/100\n",
            "17/17 [==============================] - 3s 148ms/step - loss: 0.4137 - accuracy: 0.8815 - val_loss: 0.4377 - val_accuracy: 0.8500\n",
            "Epoch 82/100\n",
            "17/17 [==============================] - 3s 186ms/step - loss: 0.4092 - accuracy: 0.8833 - val_loss: 0.4342 - val_accuracy: 0.8417\n",
            "Epoch 83/100\n",
            "17/17 [==============================] - 3s 178ms/step - loss: 0.4052 - accuracy: 0.8843 - val_loss: 0.4304 - val_accuracy: 0.8417\n",
            "Epoch 84/100\n",
            "17/17 [==============================] - 3s 207ms/step - loss: 0.4011 - accuracy: 0.8861 - val_loss: 0.4274 - val_accuracy: 0.8500\n",
            "Epoch 85/100\n",
            "17/17 [==============================] - 3s 148ms/step - loss: 0.3971 - accuracy: 0.8870 - val_loss: 0.4237 - val_accuracy: 0.8500\n",
            "Epoch 86/100\n",
            "17/17 [==============================] - 3s 155ms/step - loss: 0.3930 - accuracy: 0.8870 - val_loss: 0.4204 - val_accuracy: 0.8500\n",
            "Epoch 87/100\n",
            "17/17 [==============================] - 3s 162ms/step - loss: 0.3891 - accuracy: 0.8880 - val_loss: 0.4167 - val_accuracy: 0.8583\n",
            "Epoch 88/100\n",
            "17/17 [==============================] - 3s 157ms/step - loss: 0.3849 - accuracy: 0.8880 - val_loss: 0.4135 - val_accuracy: 0.8583\n",
            "Epoch 89/100\n",
            "17/17 [==============================] - 3s 174ms/step - loss: 0.3811 - accuracy: 0.8907 - val_loss: 0.4103 - val_accuracy: 0.8583\n",
            "Epoch 90/100\n",
            "17/17 [==============================] - 2s 141ms/step - loss: 0.3773 - accuracy: 0.8935 - val_loss: 0.4076 - val_accuracy: 0.8667\n",
            "Epoch 91/100\n",
            "17/17 [==============================] - 3s 161ms/step - loss: 0.3734 - accuracy: 0.8917 - val_loss: 0.4051 - val_accuracy: 0.8667\n",
            "Epoch 92/100\n",
            "17/17 [==============================] - 3s 177ms/step - loss: 0.3701 - accuracy: 0.8944 - val_loss: 0.4018 - val_accuracy: 0.8750\n",
            "Epoch 93/100\n",
            "17/17 [==============================] - 3s 206ms/step - loss: 0.3663 - accuracy: 0.8954 - val_loss: 0.3994 - val_accuracy: 0.8750\n",
            "Epoch 94/100\n",
            "17/17 [==============================] - 3s 193ms/step - loss: 0.3630 - accuracy: 0.8981 - val_loss: 0.3961 - val_accuracy: 0.8750\n",
            "Epoch 95/100\n",
            "17/17 [==============================] - 2s 139ms/step - loss: 0.3594 - accuracy: 0.9000 - val_loss: 0.3939 - val_accuracy: 0.8750\n",
            "Epoch 96/100\n",
            "17/17 [==============================] - 2s 136ms/step - loss: 0.3560 - accuracy: 0.9000 - val_loss: 0.3909 - val_accuracy: 0.8750\n",
            "Epoch 97/100\n",
            "17/17 [==============================] - 3s 148ms/step - loss: 0.3526 - accuracy: 0.9000 - val_loss: 0.3882 - val_accuracy: 0.8750\n",
            "Epoch 98/100\n",
            "17/17 [==============================] - 3s 155ms/step - loss: 0.3493 - accuracy: 0.9000 - val_loss: 0.3855 - val_accuracy: 0.8750\n",
            "Epoch 99/100\n",
            "17/17 [==============================] - 3s 185ms/step - loss: 0.3461 - accuracy: 0.8991 - val_loss: 0.3831 - val_accuracy: 0.8750\n",
            "Epoch 100/100\n",
            "17/17 [==============================] - 2s 142ms/step - loss: 0.3428 - accuracy: 0.9000 - val_loss: 0.3810 - val_accuracy: 0.8750\n"
          ]
        }
      ]
    },
    {
      "cell_type": "markdown",
      "source": [
        "## History Object\n",
        "\n",
        "The history object is an output of the .fit() operation, and provides a record of all the loss and metric values in memory. It's stored as a dictionary that you can retrieve"
      ],
      "metadata": {
        "id": "AU-5F-TJRCj4"
      }
    },
    {
      "cell_type": "code",
      "source": [
        "history.history\n",
        "# here, we have : accuracy, loss, val_accuracy, val_loss"
      ],
      "metadata": {
        "colab": {
          "base_uri": "https://localhost:8080/"
        },
        "id": "mDwYs-C4QI1Z",
        "outputId": "6e157288-7ed5-451f-fbb3-c16a076af6d4"
      },
      "execution_count": 40,
      "outputs": [
        {
          "output_type": "execute_result",
          "data": {
            "text/plain": [
              "{'accuracy': [0.1666666716337204,\n",
              "  0.25462964177131653,\n",
              "  0.31018519401550293,\n",
              "  0.3212963044643402,\n",
              "  0.3731481432914734,\n",
              "  0.42222222685813904,\n",
              "  0.43888887763023376,\n",
              "  0.4472222328186035,\n",
              "  0.4731481373310089,\n",
              "  0.49537035822868347,\n",
              "  0.5138888955116272,\n",
              "  0.5277777910232544,\n",
              "  0.5416666865348816,\n",
              "  0.5546296238899231,\n",
              "  0.5620370507240295,\n",
              "  0.5592592358589172,\n",
              "  0.5796296000480652,\n",
              "  0.5759259462356567,\n",
              "  0.5944444537162781,\n",
              "  0.604629635810852,\n",
              "  0.6166666746139526,\n",
              "  0.6268518567085266,\n",
              "  0.6435185074806213,\n",
              "  0.6564815044403076,\n",
              "  0.6675925850868225,\n",
              "  0.6722221970558167,\n",
              "  0.6842592358589172,\n",
              "  0.6907407641410828,\n",
              "  0.6962962746620178,\n",
              "  0.7037037014961243,\n",
              "  0.7074074149131775,\n",
              "  0.7194444537162781,\n",
              "  0.7222222089767456,\n",
              "  0.7259259223937988,\n",
              "  0.7314814925193787,\n",
              "  0.7388888597488403,\n",
              "  0.7453703880310059,\n",
              "  0.7490741014480591,\n",
              "  0.7527777552604675,\n",
              "  0.7583333253860474,\n",
              "  0.760185182094574,\n",
              "  0.7638888955116272,\n",
              "  0.7657407522201538,\n",
              "  0.7712963223457336,\n",
              "  0.7787036895751953,\n",
              "  0.7833333611488342,\n",
              "  0.7907407283782959,\n",
              "  0.7962962985038757,\n",
              "  0.800000011920929,\n",
              "  0.8055555820465088,\n",
              "  0.8111110925674438,\n",
              "  0.8129629492759705,\n",
              "  0.8166666626930237,\n",
              "  0.8185185194015503,\n",
              "  0.8240740895271301,\n",
              "  0.824999988079071,\n",
              "  0.8277778029441833,\n",
              "  0.8324074149131775,\n",
              "  0.8342592716217041,\n",
              "  0.835185170173645,\n",
              "  0.8379629850387573,\n",
              "  0.8379629850387573,\n",
              "  0.8416666388511658,\n",
              "  0.845370352268219,\n",
              "  0.8472222089767456,\n",
              "  0.8490740656852722,\n",
              "  0.8509259223937988,\n",
              "  0.8527777791023254,\n",
              "  0.8583333492279053,\n",
              "  0.8601852059364319,\n",
              "  0.8620370626449585,\n",
              "  0.8657407164573669,\n",
              "  0.8666666746139526,\n",
              "  0.8675925731658936,\n",
              "  0.8666666746139526,\n",
              "  0.8685185313224792,\n",
              "  0.8731481432914734,\n",
              "  0.875,\n",
              "  0.8768518567085266,\n",
              "  0.8787037134170532,\n",
              "  0.8814814686775208,\n",
              "  0.8833333253860474,\n",
              "  0.8842592835426331,\n",
              "  0.8861111402511597,\n",
              "  0.8870370388031006,\n",
              "  0.8870370388031006,\n",
              "  0.8879629373550415,\n",
              "  0.8879629373550415,\n",
              "  0.8907407522201538,\n",
              "  0.8935185074806213,\n",
              "  0.8916666507720947,\n",
              "  0.894444465637207,\n",
              "  0.895370364189148,\n",
              "  0.8981481194496155,\n",
              "  0.8999999761581421,\n",
              "  0.8999999761581421,\n",
              "  0.8999999761581421,\n",
              "  0.8999999761581421,\n",
              "  0.8990740776062012,\n",
              "  0.8999999761581421],\n",
              " 'loss': [1.8059749603271484,\n",
              "  1.786462426185608,\n",
              "  1.7785660028457642,\n",
              "  1.7712175846099854,\n",
              "  1.7639412879943848,\n",
              "  1.7555055618286133,\n",
              "  1.7455192804336548,\n",
              "  1.7331335544586182,\n",
              "  1.7177391052246094,\n",
              "  1.700256109237671,\n",
              "  1.6782097816467285,\n",
              "  1.6515225172042847,\n",
              "  1.6196337938308716,\n",
              "  1.5823439359664917,\n",
              "  1.541061282157898,\n",
              "  1.4959774017333984,\n",
              "  1.4474848508834839,\n",
              "  1.3965835571289062,\n",
              "  1.3458425998687744,\n",
              "  1.2926466464996338,\n",
              "  1.2401217222213745,\n",
              "  1.1901850700378418,\n",
              "  1.143911361694336,\n",
              "  1.1007685661315918,\n",
              "  1.0609829425811768,\n",
              "  1.0241665840148926,\n",
              "  0.9905430674552917,\n",
              "  0.9605532884597778,\n",
              "  0.9330336451530457,\n",
              "  0.907522439956665,\n",
              "  0.8838238716125488,\n",
              "  0.8617660403251648,\n",
              "  0.8412739038467407,\n",
              "  0.8214326500892639,\n",
              "  0.8036245107650757,\n",
              "  0.7868878245353699,\n",
              "  0.7706530690193176,\n",
              "  0.7551562190055847,\n",
              "  0.740463376045227,\n",
              "  0.7267680764198303,\n",
              "  0.7139200568199158,\n",
              "  0.7014173865318298,\n",
              "  0.6891127824783325,\n",
              "  0.6773380637168884,\n",
              "  0.6657736301422119,\n",
              "  0.6551083326339722,\n",
              "  0.6443440318107605,\n",
              "  0.6344196796417236,\n",
              "  0.624376654624939,\n",
              "  0.6146664023399353,\n",
              "  0.605464518070221,\n",
              "  0.5963352918624878,\n",
              "  0.5879065990447998,\n",
              "  0.5795263648033142,\n",
              "  0.5713379383087158,\n",
              "  0.5633032321929932,\n",
              "  0.5557189583778381,\n",
              "  0.5481290221214294,\n",
              "  0.540961503982544,\n",
              "  0.5338223576545715,\n",
              "  0.5265411734580994,\n",
              "  0.519866943359375,\n",
              "  0.5131042003631592,\n",
              "  0.506668746471405,\n",
              "  0.5001413226127625,\n",
              "  0.4940834939479828,\n",
              "  0.4876963794231415,\n",
              "  0.4814917743206024,\n",
              "  0.4756668508052826,\n",
              "  0.46978962421417236,\n",
              "  0.4638616740703583,\n",
              "  0.4583355188369751,\n",
              "  0.45257478952407837,\n",
              "  0.4470125734806061,\n",
              "  0.4421499967575073,\n",
              "  0.43691712617874146,\n",
              "  0.43219661712646484,\n",
              "  0.4272724390029907,\n",
              "  0.42268106341362,\n",
              "  0.418071985244751,\n",
              "  0.4137153923511505,\n",
              "  0.4092370271682739,\n",
              "  0.4052066206932068,\n",
              "  0.4010787308216095,\n",
              "  0.39707401394844055,\n",
              "  0.39304202795028687,\n",
              "  0.38913846015930176,\n",
              "  0.38494884967803955,\n",
              "  0.381076455116272,\n",
              "  0.3773139417171478,\n",
              "  0.3734474182128906,\n",
              "  0.3701128661632538,\n",
              "  0.3663231432437897,\n",
              "  0.3630070388317108,\n",
              "  0.35935503244400024,\n",
              "  0.35603681206703186,\n",
              "  0.35257551074028015,\n",
              "  0.34925466775894165,\n",
              "  0.3460507094860077,\n",
              "  0.3428385257720947],\n",
              " 'val_accuracy': [0.1666666716337204,\n",
              "  0.32499998807907104,\n",
              "  0.34166666865348816,\n",
              "  0.38333332538604736,\n",
              "  0.4000000059604645,\n",
              "  0.40833333134651184,\n",
              "  0.4583333432674408,\n",
              "  0.4833333194255829,\n",
              "  0.46666666865348816,\n",
              "  0.46666666865348816,\n",
              "  0.5,\n",
              "  0.5583333373069763,\n",
              "  0.5666666626930237,\n",
              "  0.5583333373069763,\n",
              "  0.5416666865348816,\n",
              "  0.574999988079071,\n",
              "  0.5666666626930237,\n",
              "  0.5666666626930237,\n",
              "  0.5666666626930237,\n",
              "  0.5916666388511658,\n",
              "  0.6166666746139526,\n",
              "  0.6083333492279053,\n",
              "  0.6000000238418579,\n",
              "  0.6166666746139526,\n",
              "  0.6166666746139526,\n",
              "  0.6083333492279053,\n",
              "  0.625,\n",
              "  0.6666666865348816,\n",
              "  0.675000011920929,\n",
              "  0.6833333373069763,\n",
              "  0.6833333373069763,\n",
              "  0.6916666626930237,\n",
              "  0.6833333373069763,\n",
              "  0.6916666626930237,\n",
              "  0.6916666626930237,\n",
              "  0.699999988079071,\n",
              "  0.699999988079071,\n",
              "  0.7083333134651184,\n",
              "  0.7250000238418579,\n",
              "  0.7333333492279053,\n",
              "  0.75,\n",
              "  0.75,\n",
              "  0.7666666507720947,\n",
              "  0.7666666507720947,\n",
              "  0.7833333611488342,\n",
              "  0.7833333611488342,\n",
              "  0.7833333611488342,\n",
              "  0.7833333611488342,\n",
              "  0.7833333611488342,\n",
              "  0.7916666865348816,\n",
              "  0.8083333373069763,\n",
              "  0.8083333373069763,\n",
              "  0.800000011920929,\n",
              "  0.800000011920929,\n",
              "  0.800000011920929,\n",
              "  0.800000011920929,\n",
              "  0.800000011920929,\n",
              "  0.8083333373069763,\n",
              "  0.800000011920929,\n",
              "  0.8083333373069763,\n",
              "  0.800000011920929,\n",
              "  0.800000011920929,\n",
              "  0.8083333373069763,\n",
              "  0.8083333373069763,\n",
              "  0.8166666626930237,\n",
              "  0.824999988079071,\n",
              "  0.8166666626930237,\n",
              "  0.824999988079071,\n",
              "  0.824999988079071,\n",
              "  0.8333333134651184,\n",
              "  0.8333333134651184,\n",
              "  0.8333333134651184,\n",
              "  0.8333333134651184,\n",
              "  0.8333333134651184,\n",
              "  0.8333333134651184,\n",
              "  0.8333333134651184,\n",
              "  0.8333333134651184,\n",
              "  0.8333333134651184,\n",
              "  0.8333333134651184,\n",
              "  0.8333333134651184,\n",
              "  0.8500000238418579,\n",
              "  0.8416666388511658,\n",
              "  0.8416666388511658,\n",
              "  0.8500000238418579,\n",
              "  0.8500000238418579,\n",
              "  0.8500000238418579,\n",
              "  0.8583333492279053,\n",
              "  0.8583333492279053,\n",
              "  0.8583333492279053,\n",
              "  0.8666666746139526,\n",
              "  0.8666666746139526,\n",
              "  0.875,\n",
              "  0.875,\n",
              "  0.875,\n",
              "  0.875,\n",
              "  0.875,\n",
              "  0.875,\n",
              "  0.875,\n",
              "  0.875,\n",
              "  0.875],\n",
              " 'val_loss': [1.7893097400665283,\n",
              "  1.7809288501739502,\n",
              "  1.7739766836166382,\n",
              "  1.7670005559921265,\n",
              "  1.7590051889419556,\n",
              "  1.7492667436599731,\n",
              "  1.7378103733062744,\n",
              "  1.7241380214691162,\n",
              "  1.708091139793396,\n",
              "  1.6886683702468872,\n",
              "  1.6637382507324219,\n",
              "  1.6322282552719116,\n",
              "  1.5963222980499268,\n",
              "  1.5564842224121094,\n",
              "  1.5117851495742798,\n",
              "  1.4628945589065552,\n",
              "  1.4147191047668457,\n",
              "  1.3637983798980713,\n",
              "  1.31184720993042,\n",
              "  1.2607954740524292,\n",
              "  1.2097084522247314,\n",
              "  1.1628597974777222,\n",
              "  1.1198699474334717,\n",
              "  1.0807056427001953,\n",
              "  1.043741226196289,\n",
              "  1.0092767477035522,\n",
              "  0.9780458211898804,\n",
              "  0.9496532678604126,\n",
              "  0.9236137866973877,\n",
              "  0.8998408913612366,\n",
              "  0.8778073787689209,\n",
              "  0.8582008481025696,\n",
              "  0.8384844660758972,\n",
              "  0.8215535283088684,\n",
              "  0.8044606447219849,\n",
              "  0.7876995205879211,\n",
              "  0.7719568610191345,\n",
              "  0.7573943734169006,\n",
              "  0.744175136089325,\n",
              "  0.73112553358078,\n",
              "  0.7192657589912415,\n",
              "  0.7064655423164368,\n",
              "  0.6955032348632812,\n",
              "  0.6835588812828064,\n",
              "  0.6724862456321716,\n",
              "  0.661961555480957,\n",
              "  0.6516550779342651,\n",
              "  0.6424776911735535,\n",
              "  0.6332992315292358,\n",
              "  0.6239413619041443,\n",
              "  0.6154025793075562,\n",
              "  0.6068807244300842,\n",
              "  0.5987650752067566,\n",
              "  0.5912666320800781,\n",
              "  0.583520233631134,\n",
              "  0.5763828754425049,\n",
              "  0.5688535571098328,\n",
              "  0.5611950755119324,\n",
              "  0.5541108250617981,\n",
              "  0.5466998219490051,\n",
              "  0.5396788120269775,\n",
              "  0.5334444046020508,\n",
              "  0.5270755290985107,\n",
              "  0.5210546255111694,\n",
              "  0.5150904059410095,\n",
              "  0.5089603066444397,\n",
              "  0.5035441517829895,\n",
              "  0.497959703207016,\n",
              "  0.49226945638656616,\n",
              "  0.486831933259964,\n",
              "  0.48116335272789,\n",
              "  0.47600576281547546,\n",
              "  0.4714595079421997,\n",
              "  0.46725666522979736,\n",
              "  0.46296530961990356,\n",
              "  0.45865729451179504,\n",
              "  0.453797847032547,\n",
              "  0.4494361877441406,\n",
              "  0.44541171193122864,\n",
              "  0.44169706106185913,\n",
              "  0.43774327635765076,\n",
              "  0.43419572710990906,\n",
              "  0.4304177463054657,\n",
              "  0.42735156416893005,\n",
              "  0.4236711263656616,\n",
              "  0.4204021394252777,\n",
              "  0.41667455434799194,\n",
              "  0.4134894609451294,\n",
              "  0.4103340208530426,\n",
              "  0.4075966477394104,\n",
              "  0.40506190061569214,\n",
              "  0.40184181928634644,\n",
              "  0.39939165115356445,\n",
              "  0.3960779905319214,\n",
              "  0.3938864469528198,\n",
              "  0.39086219668388367,\n",
              "  0.38817098736763,\n",
              "  0.38546422123908997,\n",
              "  0.3831334412097931,\n",
              "  0.3809541165828705]}"
            ]
          },
          "metadata": {},
          "execution_count": 40
        }
      ]
    },
    {
      "cell_type": "code",
      "source": [
        "# The history.history[\"loss\"] entry is a dictionary with as many values as epochs that the\n",
        "# model was trained on.\n",
        "\n",
        "df_loss_acc = pd.DataFrame(history.history)\n",
        "df_loss= df_loss_acc[['loss','val_loss']]\n",
        "\n",
        "df_loss.rename(columns={'loss':'train','val_loss':'validation'},inplace=True)\n",
        "df_acc= df_loss_acc[['accuracy','val_accuracy']]\n",
        "\n",
        "df_acc.rename(columns={'accuracy':'train','val_accuracy':'validation'},inplace=True)\n",
        "df_loss.plot(title='Model loss',figsize=(12,8)).set(xlabel='Epoch',ylabel='Loss')\n",
        "df_acc.plot(title='Model Accuracy',figsize=(12,8)).set(xlabel='Epoch',ylabel='Accuracy')"
      ],
      "metadata": {
        "colab": {
          "base_uri": "https://localhost:8080/",
          "height": 1000
        },
        "id": "uh9xYcrFRF11",
        "outputId": "c3df080e-78c1-4c18-c517-8c8d0cb33a5f"
      },
      "execution_count": 41,
      "outputs": [
        {
          "output_type": "stream",
          "name": "stderr",
          "text": [
            "/usr/local/lib/python3.7/dist-packages/pandas/core/frame.py:5047: SettingWithCopyWarning: \n",
            "A value is trying to be set on a copy of a slice from a DataFrame\n",
            "\n",
            "See the caveats in the documentation: https://pandas.pydata.org/pandas-docs/stable/user_guide/indexing.html#returning-a-view-versus-a-copy\n",
            "  errors=errors,\n"
          ]
        },
        {
          "output_type": "execute_result",
          "data": {
            "text/plain": [
              "[Text(0, 0.5, 'Accuracy'), Text(0.5, 0, 'Epoch')]"
            ]
          },
          "metadata": {},
          "execution_count": 41
        },
        {
          "output_type": "display_data",
          "data": {
            "image/png": "[encoded data removed]",
            "text/plain": [
              "<Figure size 864x576 with 1 Axes>"
            ]
          },
          "metadata": {
            "needs_background": "light"
          }
        },
        {
          "output_type": "display_data",
          "data": {
            "image/png": "[encoded data removed]",
            "text/plain": [
              "<Figure size 864x576 with 1 Axes>"
            ]
          },
          "metadata": {
            "needs_background": "light"
          }
        }
      ]
    }
  ]
}