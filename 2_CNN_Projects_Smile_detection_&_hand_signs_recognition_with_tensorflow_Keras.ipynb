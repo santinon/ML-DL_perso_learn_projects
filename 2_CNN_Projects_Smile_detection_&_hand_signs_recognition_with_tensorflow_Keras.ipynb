{
  "nbformat": 4,
  "nbformat_minor": 0,
  "metadata": {
    "colab": {
      "name": "2 CNN Projects : Smile detection & hand signs recognition with tensorflow/Keras",
      "provenance": [],
      "collapsed_sections": [],
      "toc_visible": true,
      "authorship_tag": "ABX9TyPYOC+xtprVqu3acIu3HyE4",
      "include_colab_link": true
    },
    "kernelspec": {
      "name": "python3",
      "display_name": "Python 3"
    },
    "language_info": {
      "name": "python"
    }
  },
  "cells": [
    {
      "cell_type": "markdown",
      "metadata": {
        "id": "view-in-github",
        "colab_type": "text"
      },
      "source": [
        "<a href=\"https://colab.research.google.com/github/santinon/ML-DL_perso_learn_projects/blob/main/2_CNN_Projects_Smile_detection_%26_hand_signs_recognition_with_tensorflow_Keras.ipynb\" target=\"_parent\"><img src=\"https://colab.research.google.com/assets/colab-badge.svg\" alt=\"Open In Colab\"/></a>"
      ]
    },
    {
      "cell_type": "markdown",
      "source": [
        "# CNN Applications with Keras/TF\n",
        "\n",
        "# 2 Classification Projects: \n",
        "- **Smile recognition**= Binary classification\n",
        "- **Numbers shown by hand recognition (from 0 to 5)** = Multi-class classification\n"
      ],
      "metadata": {
        "id": "EVo0JsGfmpDo"
      }
    },
    {
      "cell_type": "markdown",
      "source": [
        "A note about Tensorflow : TF a is programming framework from Google. \n",
        "\n",
        "I used this ressource for this work : A tutorial from Coursera, DeepLearning Specialization (Andrew NG), Deeplearningai"
      ],
      "metadata": {
        "id": "ElV9pjjHnG-O"
      }
    },
    {
      "cell_type": "markdown",
      "source": [
        "#### Packages/Libraries\n",
        "\n",
        "(useful for all the projects)"
      ],
      "metadata": {
        "id": "X-YNSxiEnqIr"
      }
    },
    {
      "cell_type": "code",
      "source": [
        "import math\n",
        "import numpy as np\n",
        "import h5py\n",
        "import matplotlib.pyplot as plt\n",
        "from matplotlib.pyplot import imread\n",
        "import tensorflow as tf\n",
        "from tensorflow.python.framework import ops\n",
        "from PIL import Image\n",
        "import pandas as pd\n",
        "import tensorflow as tf\n",
        "import tensorflow.keras.layers as tfl\n",
        "\n",
        "# allow to have access to the data stored already on drive of google\n",
        "from google.colab import drive\n",
        "drive.mount('/content/gdrive')"
      ],
      "metadata": {
        "colab": {
          "base_uri": "https://localhost:8080/"
        },
        "id": "8u9evAPJnb8A",
        "outputId": "38d1572f-8f9a-48aa-ac45-d854f14540f8"
      },
      "execution_count": 39,
      "outputs": [
        {
          "output_type": "stream",
          "name": "stdout",
          "text": [
            "Drive already mounted at /content/gdrive; to attempt to forcibly remount, call drive.mount(\"/content/gdrive\", force_remount=True).\n"
          ]
        }
      ]
    },
    {
      "cell_type": "markdown",
      "source": [
        "#### Some functions useful for later \n",
        "\n",
        "(skip this part)"
      ],
      "metadata": {
        "id": "1lFcWhpwl7J1"
      }
    },
    {
      "cell_type": "code",
      "execution_count": 34,
      "metadata": {
        "id": "5MHKYSLOk9sn"
      },
      "outputs": [],
      "source": [
        "# this is my private path on google collab, use you own if you implement this\n",
        "# download just the 4 files from my Github before. \n",
        "path = \"/content/gdrive/MyDrive/Canada MILA/FAC/COURS UDEM MILA/Collab things/UDEM/coursera/Hand numbers recognition with TF\"\n",
        "\n",
        "def load_happy_dataset():\n",
        "    train_dataset = h5py.File(path+'/train_happy.h5', \"r\")\n",
        "    train_set_x_orig = np.array(train_dataset[\"train_set_x\"][:]) # your train set features\n",
        "    train_set_y_orig = np.array(train_dataset[\"train_set_y\"][:]) # your train set labels\n",
        "\n",
        "    test_dataset = h5py.File(path+'/test_happy.h5', \"r\")\n",
        "    test_set_x_orig = np.array(test_dataset[\"test_set_x\"][:]) # your test set features\n",
        "    test_set_y_orig = np.array(test_dataset[\"test_set_y\"][:]) # your test set labels\n",
        "\n",
        "    classes = np.array(test_dataset[\"list_classes\"][:]) # the list of classes\n",
        "    \n",
        "    train_set_y_orig = train_set_y_orig.reshape((1, train_set_y_orig.shape[0]))\n",
        "    test_set_y_orig = test_set_y_orig.reshape((1, test_set_y_orig.shape[0]))\n",
        "    \n",
        "    return train_set_x_orig, train_set_y_orig, test_set_x_orig, test_set_y_orig, classes\n",
        "\n",
        "\n",
        "# this is my private path on google collab, use you own if you implement this\n",
        "# download just the 4 files from my Github before. \n",
        "def load_signs_dataset():\n",
        "    train_dataset = h5py.File(path+'/train_signs.h5', \"r\")\n",
        "    train_set_x_orig = np.array(train_dataset[\"train_set_x\"][:]) # your train set features\n",
        "    train_set_y_orig = np.array(train_dataset[\"train_set_y\"][:]) # your train set labels\n",
        "\n",
        "    test_dataset = h5py.File(path+'/test_signs.h5', \"r\")\n",
        "    test_set_x_orig = np.array(test_dataset[\"test_set_x\"][:]) # your test set features\n",
        "    test_set_y_orig = np.array(test_dataset[\"test_set_y\"][:]) # your test set labels\n",
        "\n",
        "    classes = np.array(test_dataset[\"list_classes\"][:]) # the list of classes\n",
        "    \n",
        "    train_set_y_orig = train_set_y_orig.reshape((1, train_set_y_orig.shape[0]))\n",
        "    test_set_y_orig = test_set_y_orig.reshape((1, test_set_y_orig.shape[0]))\n",
        "    \n",
        "    return train_set_x_orig, train_set_y_orig, test_set_x_orig, test_set_y_orig, classes\n",
        "\n",
        "\n",
        "def random_mini_batches(X, Y, mini_batch_size=64, seed=0):\n",
        "    \"\"\"\n",
        "    Creates a list of random minibatches from (X, Y)\n",
        "\n",
        "    Arguments:\n",
        "    X -- input data, of shape (input size, number of examples) (m, Hi, Wi, Ci)\n",
        "    Y -- true \"label\" vector (containing 0 if cat, 1 if non-cat), of shape (1, number of examples) (m, n_y)\n",
        "    mini_batch_size - size of the mini-batches, integer\n",
        "    seed -- this is only for the purpose of grading, so that you're \"random minibatches are the same as ours.\n",
        "\n",
        "    Returns:\n",
        "    mini_batches -- list of synchronous (mini_batch_X, mini_batch_Y)\n",
        "    \"\"\"\n",
        "\n",
        "    m = X.shape[0]                  # number of training examples\n",
        "    mini_batches = []\n",
        "    np.random.seed(seed)\n",
        "\n",
        "    # Step 1: Shuffle (X, Y)\n",
        "    permutation = list(np.random.permutation(m))\n",
        "    shuffled_X = X[permutation, :, :, :]\n",
        "    shuffled_Y = Y[permutation, :]\n",
        "\n",
        "    # Step 2: Partition (shuffled_X, shuffled_Y). Minus the end case.\n",
        "    # number of mini batches of size mini_batch_size in your partitionning\n",
        "    num_complete_minibatches = math.floor(m/mini_batch_size)\n",
        "    for k in range(0, num_complete_minibatches):\n",
        "        mini_batch_X = shuffled_X[k * mini_batch_size: k *\n",
        "                                  mini_batch_size + mini_batch_size, :, :, :]\n",
        "        mini_batch_Y = shuffled_Y[k * mini_batch_size: k *\n",
        "                                  mini_batch_size + mini_batch_size, :]\n",
        "        mini_batch = (mini_batch_X, mini_batch_Y)\n",
        "        mini_batches.append(mini_batch)\n",
        "\n",
        "    # Handling the end case (last mini-batch < mini_batch_size)\n",
        "    if m % mini_batch_size != 0:\n",
        "        mini_batch_X = shuffled_X[num_complete_minibatches *\n",
        "                                  mini_batch_size: m, :, :, :]\n",
        "        mini_batch_Y = shuffled_Y[num_complete_minibatches *\n",
        "                                  mini_batch_size: m, :]\n",
        "        mini_batch = (mini_batch_X, mini_batch_Y)\n",
        "        mini_batches.append(mini_batch)\n",
        "\n",
        "    return mini_batches\n",
        "\n",
        "\n",
        "def convert_to_one_hot(Y, C):\n",
        "    Y = np.eye(C)[Y.reshape(-1)].T\n",
        "    return Y\n",
        "\n",
        "\n",
        "def forward_propagation_for_predict(X, parameters):\n",
        "    \"\"\"\n",
        "    Implements the forward propagation for the model: LINEAR -> RELU -> LINEAR -> RELU -> LINEAR -> SOFTMAX\n",
        "\n",
        "    Arguments:\n",
        "    X -- input dataset placeholder, of shape (input size, number of examples)\n",
        "    parameters -- python dictionary containing your parameters \"W1\", \"b1\", \"W2\", \"b2\", \"W3\", \"b3\"\n",
        "                  the shapes are given in initialize_parameters\n",
        "\n",
        "    Returns:\n",
        "    Z3 -- the output of the last LINEAR unit\n",
        "    \"\"\"\n",
        "\n",
        "    # Retrieve the parameters from the dictionary \"parameters\"\n",
        "    W1 = parameters['W1']\n",
        "    b1 = parameters['b1']\n",
        "    W2 = parameters['W2']\n",
        "    b2 = parameters['b2']\n",
        "    W3 = parameters['W3']\n",
        "    b3 = parameters['b3']\n",
        "    # Numpy Equivalents:\n",
        "    # Z1 = np.dot(W1, X) + b1\n",
        "    Z1 = tf.add(tf.matmul(W1, X), b1)\n",
        "    A1 = tf.nn.relu(Z1)                                    # A1 = relu(Z1)\n",
        "    # Z2 = np.dot(W2, a1) + b2\n",
        "    Z2 = tf.add(tf.matmul(W2, A1), b2)\n",
        "    A2 = tf.nn.relu(Z2)                                    # A2 = relu(Z2)\n",
        "    # Z3 = np.dot(W3,Z2) + b3\n",
        "    Z3 = tf.add(tf.matmul(W3, A2), b3)\n",
        "\n",
        "    return Z3\n",
        "\n",
        "\n",
        "def predict(X, parameters):\n",
        "\n",
        "    W1 = tf.convert_to_tensor(parameters[\"W1\"])\n",
        "    b1 = tf.convert_to_tensor(parameters[\"b1\"])\n",
        "    W2 = tf.convert_to_tensor(parameters[\"W2\"])\n",
        "    b2 = tf.convert_to_tensor(parameters[\"b2\"])\n",
        "    W3 = tf.convert_to_tensor(parameters[\"W3\"])\n",
        "    b3 = tf.convert_to_tensor(parameters[\"b3\"])\n",
        "\n",
        "    params = {\"W1\": W1,\n",
        "              \"b1\": b1,\n",
        "              \"W2\": W2,\n",
        "              \"b2\": b2,\n",
        "              \"W3\": W3,\n",
        "              \"b3\": b3}\n",
        "\n",
        "    x = tf.placeholder(\"float\", [12288, 1])\n",
        "\n",
        "    z3 = forward_propagation_for_predict(x, params)\n",
        "    p = tf.argmax(z3)\n",
        "\n",
        "    sess = tf.Session()\n",
        "    prediction = sess.run(p, feed_dict={x: X})\n",
        "\n",
        "    return prediction"
      ]
    },
    {
      "cell_type": "markdown",
      "source": [
        "# o - o - o - o - o - o - o - o - o - o - o - o - o"
      ],
      "metadata": {
        "id": "I4HSZOr6To41"
      }
    },
    {
      "cell_type": "markdown",
      "source": [
        "## Note : Sequential model & Functional API\n",
        "\n",
        "Sequential model : \n",
        "\n",
        "    A Sequential model is appropriate for a plain stack of layers where each layer has exactly one input tensor and one output tensor. Sequential API requires the model to move in a linear fashion through its layers.\n",
        "\n",
        "Functional API : \n",
        "\n",
        "    The Functional API can handle models with non-linear topology, shared layers, as well as layers with multiple inputs or outputs => allows much more flexibility\n",
        "\n",
        "    The Keras functional API is a way to create models that are more flexible than the tf.keras.Sequential API.\n",
        "\n",
        "    The functional API can handle models with non-linear topology, shared layers, and even multiple inputs or outputs.\n",
        "\n",
        "    The main idea is that a deep learning model is usually a directed acyclic graph (DAG) of layers. So the functional API is a way to build graphs of layers.\n",
        "\n"
      ],
      "metadata": {
        "id": "xcTy2oRRSKka"
      }
    },
    {
      "cell_type": "markdown",
      "source": [
        "# Project 1 : Recognizing smilling people images\n",
        "\n",
        "\n",
        "following model: `ZEROPAD2D -> CONV2D -> BATCHNORM -> RELU -> MAXPOOL -> FLATTEN -> DENSE`."
      ],
      "metadata": {
        "id": "5iAv-ODur5t3"
      }
    },
    {
      "cell_type": "markdown",
      "source": [
        "###Load the Data and Split the Data into Train/Test Sets"
      ],
      "metadata": {
        "id": "9Rj_7TLuo1Lt"
      }
    },
    {
      "cell_type": "markdown",
      "source": [
        "Happy House dataset for this part of the assignment, which contains images of peoples' faces. Your task will be to build a ConvNet that determines whether the people in the images are smiling or not"
      ],
      "metadata": {
        "id": "3dCloUH0pIWI"
      }
    },
    {
      "cell_type": "code",
      "source": [
        "X_train_orig, Y_train_orig, X_test_orig, Y_test_orig, classes = load_happy_dataset()\n",
        "\n",
        "# Normalize image vectors\n",
        "X_train = X_train_orig/255.\n",
        "X_test = X_test_orig/255.\n",
        "\n",
        "# Reshape\n",
        "Y_train = Y_train_orig.T\n",
        "Y_test = Y_test_orig.T\n",
        "\n",
        "print (\"number of training examples = \" + str(X_train.shape[0]))\n",
        "print (\"number of test examples = \" + str(X_test.shape[0]))\n",
        "print (\"X_train shape: \" + str(X_train.shape))\n",
        "print(\"Y_train_orig shape before reshaping : \", Y_train_orig.shape)\n",
        "print (\"Y_train shape: \" + str(Y_train.shape))\n",
        "print (\"X_test shape: \" + str(X_test.shape))\n",
        "print (\"Y_test shape: \" + str(Y_test.shape))"
      ],
      "metadata": {
        "colab": {
          "base_uri": "https://localhost:8080/"
        },
        "id": "Mkj5_JcKlt-T",
        "outputId": "1668baa5-1218-4a9b-9e31-9760612c2546"
      },
      "execution_count": 11,
      "outputs": [
        {
          "output_type": "stream",
          "name": "stdout",
          "text": [
            "number of training examples = 600\n",
            "number of test examples = 150\n",
            "X_train shape: (600, 64, 64, 3)\n",
            "Y_train_orig shape before reshaping :  (1, 600)\n",
            "Y_train shape: (600, 1)\n",
            "X_test shape: (150, 64, 64, 3)\n",
            "Y_test shape: (150, 1)\n"
          ]
        }
      ]
    },
    {
      "cell_type": "code",
      "source": [
        "Y_train[0:5]"
      ],
      "metadata": {
        "colab": {
          "base_uri": "https://localhost:8080/"
        },
        "id": "8W533w1E20te",
        "outputId": "d961975c-ee7b-43ee-c51d-331327c5316a"
      },
      "execution_count": 31,
      "outputs": [
        {
          "output_type": "execute_result",
          "data": {
            "text/plain": [
              "array([[0],\n",
              "       [1],\n",
              "       [1],\n",
              "       [1],\n",
              "       [1]])"
            ]
          },
          "metadata": {},
          "execution_count": 31
        }
      ]
    },
    {
      "cell_type": "code",
      "source": [
        "index = 127\n",
        "plt.imshow(X_train_orig[index]) #display sample training image\n",
        "plt.show()"
      ],
      "metadata": {
        "colab": {
          "base_uri": "https://localhost:8080/",
          "height": 268
        },
        "id": "p0THM5_NolCU",
        "outputId": "7c27440e-c893-4a22-bc65-1e858bd0c485"
      },
      "execution_count": 13,
      "outputs": [
        {
          "output_type": "display_data",
          "data": {
            "image/png": "[encoded data removed]",
            "text/plain": [
              "<Figure size 432x288 with 1 Axes>"
            ]
          },
          "metadata": {
            "needs_background": "light"
          }
        }
      ]
    },
    {
      "cell_type": "markdown",
      "source": [
        "### Tensorflow / Keras Information: \n",
        "\n",
        "- create a model using TF Keras' Sequential API, which allows you to build layer by layer, and is ideal for building models where each layer has **exactly one** input tensor and **one** output tensor (is only appropriate for simpler, more straightforward tasks). \n",
        "\n",
        "-  think of a Sequential model as behaving like a list of layers. Like Python lists, Sequential layers are ordered, and the order in which they are specified matters.  \n",
        "\n",
        "- If your model is non-linear or contains layers with multiple inputs or outputs, a Sequential model wouldn't be the right choice!\n",
        "\n",
        "- For any layer construction in Keras, you'll need to specify the input shape in advance (shape of the weights is based on the shape of the inputs)."
      ],
      "metadata": {
        "id": "x2qCT3ijs5mh"
      }
    },
    {
      "cell_type": "markdown",
      "source": [
        "### Create the Sequential Model\n",
        "\n",
        "following model: `ZEROPAD2D -> CONV2D -> BATCHNORM -> RELU -> MAXPOOL -> FLATTEN -> DENSE`\n",
        "\n",
        "- [ZeroPadding2D](https://www.tensorflow.org/api_docs/python/tf/keras/layers/ZeroPadding2D): padding 3, input shape 64 x 64 x 3\n",
        "- [Conv2D](https://www.tensorflow.org/api_docs/python/tf/keras/layers/Conv2D): Use 32 7x7 filters, stride 1 (e.g. spatial convolution over images)\n",
        "- [BatchNormalization](https://www.tensorflow.org/api_docs/python/tf/keras/layers/BatchNormalization): for axis 3\n",
        "- [ReLU](https://www.tensorflow.org/api_docs/python/tf/keras/layers/ReLU)\n",
        "- [MaxPool2D](https://www.tensorflow.org/api_docs/python/tf/keras/layers/MaxPool2D): Using default parameters\n",
        "- [Flatten](https://www.tensorflow.org/api_docs/python/tf/keras/layers/Flatten) the previous output.\n",
        "- Fully-connected ([Dense](https://www.tensorflow.org/api_docs/python/tf/keras/layers/Dense)) layer: Apply a fully connected layer with 1 neuron and a sigmoid activation. \n"
      ],
      "metadata": {
        "id": "Zcgmwh5HuQZ3"
      }
    },
    {
      "cell_type": "code",
      "source": [
        "def happyModel():\n",
        "    \"\"\"\n",
        "    Implements the forward propagation for the binary classification model:\n",
        "    ZEROPAD2D -> CONV2D -> BATCHNORM -> RELU -> MAXPOOL -> FLATTEN -> DENSE\n",
        "    \n",
        "    Note that for simplicity and grading purposes, you'll hard-code all the values\n",
        "    such as the stride and kernel (filter) sizes. \n",
        "    Normally, functions should take these values as function parameters.\n",
        "    \n",
        "    Arguments:\n",
        "    None\n",
        "\n",
        "    Returns:\n",
        "    model -- TF Keras model (object containing the information for the entire training process) \n",
        "    \"\"\"\n",
        "\n",
        "    \n",
        "    model = tf.keras.Sequential([\n",
        "                                 \n",
        "            # input shape of 64 x 64 x 3                     \n",
        "            tf.keras.Input(shape=(64 , 64 ,3)),\n",
        "\n",
        "            # ZeroPadding2D with padding 3\n",
        "            tfl.ZeroPadding2D(padding=3),#tensorflow.keras.layers shorthand = tfl\n",
        "\n",
        "            # Conv2D with 32 7x7 filters and stride of 1\n",
        "            # (spatial convolution over images)\n",
        "            tfl.Conv2D(filters=32,kernel_size=7,strides=1),\n",
        "\n",
        "            # BatchNormalization for axis 3\n",
        "            tfl.BatchNormalization(axis=3, momentum=0.99, epsilon=0.001),\n",
        "\n",
        "            # ReLU\n",
        "            tfl.ReLU(),\n",
        "\n",
        "            # Max Pooling 2D with default parameters\n",
        "            tfl.MaxPool2D(),\n",
        "\n",
        "            # Flatten layer\n",
        "            tfl.Flatten(),\n",
        "\n",
        "            # Dense layer with 1 unit for output & 'sigmoid' activation\n",
        "            tfl.Dense(1,activation='sigmoid')\n",
        "        ])\n",
        "    \n",
        "    return model"
      ],
      "metadata": {
        "id": "TVMHwJoArf--"
      },
      "execution_count": 16,
      "outputs": []
    },
    {
      "cell_type": "markdown",
      "source": [
        "#### Compilation \n",
        "\n",
        "model is created, now you can compile it for training with an optimizer, loss and metrics of your choice. "
      ],
      "metadata": {
        "id": "2gUIQKey1JsL"
      }
    },
    {
      "cell_type": "code",
      "source": [
        "happy_model = happyModel()\n",
        "happy_model.compile(optimizer='adam',\n",
        "                   loss='binary_crossentropy',\n",
        "                   metrics=['accuracy'])"
      ],
      "metadata": {
        "id": "kBpNn0pl1hc1"
      },
      "execution_count": 27,
      "outputs": []
    },
    {
      "cell_type": "markdown",
      "source": [
        "#### check the layers"
      ],
      "metadata": {
        "id": "VchuhUVU1uK3"
      }
    },
    {
      "cell_type": "code",
      "source": [
        "# Print a summary for each layer\n",
        "happy_model.summary()"
      ],
      "metadata": {
        "colab": {
          "base_uri": "https://localhost:8080/"
        },
        "id": "1_W1EAFmxkTM",
        "outputId": "bc1ca6d7-95a5-4ca6-e334-7d765ba9a02a"
      },
      "execution_count": 28,
      "outputs": [
        {
          "output_type": "stream",
          "name": "stdout",
          "text": [
            "Model: \"sequential_6\"\n",
            "_________________________________________________________________\n",
            " Layer (type)                Output Shape              Param #   \n",
            "=================================================================\n",
            " zero_padding2d_6 (ZeroPaddi  (None, 70, 70, 3)        0         \n",
            " ng2D)                                                           \n",
            "                                                                 \n",
            " conv2d_6 (Conv2D)           (None, 64, 64, 32)        4736      \n",
            "                                                                 \n",
            " batch_normalization_6 (Batc  (None, 64, 64, 32)       128       \n",
            " hNormalization)                                                 \n",
            "                                                                 \n",
            " re_lu_6 (ReLU)              (None, 64, 64, 32)        0         \n",
            "                                                                 \n",
            " max_pooling2d_6 (MaxPooling  (None, 32, 32, 32)       0         \n",
            " 2D)                                                             \n",
            "                                                                 \n",
            " flatten_6 (Flatten)         (None, 32768)             0         \n",
            "                                                                 \n",
            " dense_6 (Dense)             (None, 1)                 32769     \n",
            "                                                                 \n",
            "=================================================================\n",
            "Total params: 37,633\n",
            "Trainable params: 37,569\n",
            "Non-trainable params: 64\n",
            "_________________________________________________________________\n"
          ]
        }
      ]
    },
    {
      "cell_type": "markdown",
      "source": [
        "### Train and Evaluate the Model"
      ],
      "metadata": {
        "id": "qmKpG93S14z1"
      }
    },
    {
      "cell_type": "code",
      "source": [
        "happy_model.fit(X_train, Y_train, epochs=10, batch_size=16)"
      ],
      "metadata": {
        "colab": {
          "base_uri": "https://localhost:8080/"
        },
        "id": "sHBZevcv16rd",
        "outputId": "990da98c-7fea-49a1-9e87-22aced09f4ac"
      },
      "execution_count": 29,
      "outputs": [
        {
          "output_type": "stream",
          "name": "stdout",
          "text": [
            "Epoch 1/10\n",
            "38/38 [==============================] - 5s 108ms/step - loss: 1.0206 - accuracy: 0.7383\n",
            "Epoch 2/10\n",
            "38/38 [==============================] - 4s 107ms/step - loss: 0.1724 - accuracy: 0.9300\n",
            "Epoch 3/10\n",
            "38/38 [==============================] - 4s 102ms/step - loss: 0.3712 - accuracy: 0.8567\n",
            "Epoch 4/10\n",
            "38/38 [==============================] - 4s 97ms/step - loss: 0.1295 - accuracy: 0.9533\n",
            "Epoch 5/10\n",
            "38/38 [==============================] - 4s 106ms/step - loss: 0.2248 - accuracy: 0.9233\n",
            "Epoch 6/10\n",
            "38/38 [==============================] - 4s 105ms/step - loss: 0.2827 - accuracy: 0.9100\n",
            "Epoch 7/10\n",
            "38/38 [==============================] - 4s 109ms/step - loss: 0.1145 - accuracy: 0.9567\n",
            "Epoch 8/10\n",
            "38/38 [==============================] - 4s 106ms/step - loss: 0.1209 - accuracy: 0.9583\n",
            "Epoch 9/10\n",
            "38/38 [==============================] - 5s 127ms/step - loss: 0.1177 - accuracy: 0.9567\n",
            "Epoch 10/10\n",
            "38/38 [==============================] - 4s 105ms/step - loss: 0.1614 - accuracy: 0.9383\n"
          ]
        },
        {
          "output_type": "execute_result",
          "data": {
            "text/plain": [
              "<keras.callbacks.History at 0x7fd41411d2d0>"
            ]
          },
          "metadata": {},
          "execution_count": 29
        }
      ]
    },
    {
      "cell_type": "code",
      "source": [
        "# binary_crossentropy and the accuracy respectively\n",
        "happy_model.evaluate(X_test, Y_test)"
      ],
      "metadata": {
        "colab": {
          "base_uri": "https://localhost:8080/"
        },
        "id": "TT7v0Ybl3Pyv",
        "outputId": "c1fc3c69-6fee-411d-ee34-925c87fbacf9"
      },
      "execution_count": 33,
      "outputs": [
        {
          "output_type": "stream",
          "name": "stdout",
          "text": [
            "5/5 [==============================] - 0s 90ms/step - loss: 0.3391 - accuracy: 0.8867\n"
          ]
        },
        {
          "output_type": "execute_result",
          "data": {
            "text/plain": [
              "[0.33906421065330505, 0.8866666555404663]"
            ]
          },
          "metadata": {},
          "execution_count": 33
        }
      ]
    },
    {
      "cell_type": "markdown",
      "source": [
        "# Project 2:  Hand signs indicating numbers from 0 to 5 (6 classes classification) with Tensorflow"
      ],
      "metadata": {
        "id": "551no0U_oXxn"
      }
    },
    {
      "cell_type": "markdown",
      "source": [
        "**Sequential model**\n",
        "- A Sequential model is appropriate for a plain stack of layers where each layer has exactly one input tensor and one output tensor. Sequential API requires the model to move in a linear fashion through its layers.\n",
        "\n",
        "\n",
        "**Functional API**\n",
        "- The Functional API can handle models with non-linear topology, shared layers, as well as layers with multiple inputs or outputs => allows much more flexibility \n",
        "\n",
        "- The Keras functional API is a way to create models that are more flexible than the tf.keras.Sequential API. \n",
        "\n",
        "- The functional API can handle models with non-linear topology, shared layers, and even multiple inputs or outputs.\n",
        "\n",
        "- The main idea is that a deep learning model is usually a directed acyclic graph (DAG) of layers. So the functional API is a way to build graphs of layers.\n"
      ],
      "metadata": {
        "id": "dBTyBDYU5LGO"
      }
    },
    {
      "cell_type": "markdown",
      "source": [
        "## Load the SIGNS Dataset\n",
        "\n"
      ],
      "metadata": {
        "id": "W9UbFwZ6CGFP"
      }
    },
    {
      "cell_type": "code",
      "source": [
        "# Loading the data (signs)\n",
        "X_train_orig, Y_train_orig, X_test_orig, Y_test_orig, classes = load_signs_dataset()"
      ],
      "metadata": {
        "id": "maKxA20D5J8B"
      },
      "execution_count": 35,
      "outputs": []
    },
    {
      "cell_type": "code",
      "source": [
        "# Example of an image from the dataset\n",
        "index = 12\n",
        "plt.imshow(X_train_orig[index])\n",
        "print (\"y = \" + str(np.squeeze(Y_train_orig[:, index])))"
      ],
      "metadata": {
        "colab": {
          "base_uri": "https://localhost:8080/",
          "height": 285
        },
        "id": "Yb672FHnCIv6",
        "outputId": "118996fc-b49a-4c20-cfe5-48a349191a5f"
      },
      "execution_count": 37,
      "outputs": [
        {
          "output_type": "stream",
          "name": "stdout",
          "text": [
            "y = 5\n"
          ]
        },
        {
          "output_type": "display_data",
          "data": {
            "image/png": "[encoded data removed]",
            "text/plain": [
              "<Figure size 432x288 with 1 Axes>"
            ]
          },
          "metadata": {
            "needs_background": "light"
          }
        }
      ]
    },
    {
      "cell_type": "markdown",
      "source": [
        "## Split the Data into Train/Test Sets"
      ],
      "metadata": {
        "id": "qQ28pXS9EfiQ"
      }
    },
    {
      "cell_type": "code",
      "source": [
        "X_train = X_train_orig/255.\n",
        "X_test = X_test_orig/255.\n",
        "\n",
        "Y_train = convert_to_one_hot(Y_train_orig, 6).T\n",
        "Y_test = convert_to_one_hot(Y_test_orig, 6).T\n",
        "\n",
        "print (\"number of training examples = \" + str(X_train.shape[0]))\n",
        "print (\"number of test examples = \" + str(X_test.shape[0]))\n",
        "print (\"X_train shape: \" + str(X_train.shape))\n",
        "print(\"\\nY_train_orig looks like :\", Y_train_orig)\n",
        "print (\"Y_train_orig shape: \" + str(Y_train_orig.shape))\n",
        "print (\"Y_train shape: \" + str(Y_train.shape))\n",
        "print(\"Y_train\", Y_train)\n",
        "print (\"\\nX_test shape: \" + str(X_test.shape))\n",
        "print (\"Y_test shape: \" + str(Y_test.shape))"
      ],
      "metadata": {
        "colab": {
          "base_uri": "https://localhost:8080/"
        },
        "id": "h0IeVuegCLBh",
        "outputId": "2bb86b27-77f3-447d-fa9f-f41719ff093a"
      },
      "execution_count": 47,
      "outputs": [
        {
          "output_type": "stream",
          "name": "stdout",
          "text": [
            "number of training examples = 1080\n",
            "number of test examples = 120\n",
            "X_train shape: (1080, 64, 64, 3)\n",
            "\n",
            "Y_train_orig looks like : [[5 0 2 ... 2 4 5]]\n",
            "Y_train_orig shape: (1, 1080)\n",
            "Y_train shape: (1080, 6)\n",
            "Y_train [[0. 0. 0. 0. 0. 1.]\n",
            " [1. 0. 0. 0. 0. 0.]\n",
            " [0. 0. 1. 0. 0. 0.]\n",
            " ...\n",
            " [0. 0. 1. 0. 0. 0.]\n",
            " [0. 0. 0. 0. 1. 0.]\n",
            " [0. 0. 0. 0. 0. 1.]]\n",
            "\n",
            "X_test shape: (120, 64, 64, 3)\n",
            "Y_test shape: (120, 6)\n"
          ]
        }
      ]
    },
    {
      "cell_type": "markdown",
      "source": [
        "## Forward Propagation (Convolutional Model)\n",
        "\n",
        "Begin building your graph of layers by creating an input node that functions as a callable object:\n",
        "\n",
        "- **input_img = tf.keras.Input(shape=input_shape):** \n",
        "\n",
        "Then, create a new node in the graph of layers by calling a layer on the `input_img` object: \n",
        "\n",
        "- **tf.keras.layers.Conv2D(filters= ... , kernel_size= ... , padding='same')(input_img):** Read the full documentation on [Conv2D](https://www.tensorflow.org/api_docs/python/tf/keras/layers/Conv2D).\n",
        "\n",
        "- **tf.keras.layers.MaxPool2D(pool_size=(f, f), strides=(s, s), padding='same'):** `MaxPool2D()` downsamples your input using a window of size (f, f) and strides of size (s, s) to carry out max pooling over each window.  For max pooling, you usually operate on a single example at a time and a single channel at a time. Read the full documentation on [MaxPool2D](https://www.tensorflow.org/api_docs/python/tf/keras/layers/MaxPool2D).\n",
        "\n",
        "- **tf.keras.layers.ReLU():** computes the elementwise ReLU of Z (which can be any shape). You can read the full documentation on [ReLU](https://www.tensorflow.org/api_docs/python/tf/keras/layers/ReLU).\n",
        "\n",
        "- **tf.keras.layers.Flatten()**: given a tensor \"P\", this function takes each training (or test) example in the batch and flattens it into a 1D vector.  \n",
        "\n",
        "    * If a tensor P has the shape (batch_size,h,w,c), it returns a flattened tensor with shape (batch_size, k), where k=h * w *  c.  \"k\" equals the product of all the dimension sizes other than the first dimension.\n",
        "    \n",
        "    * For example, given a tensor with dimensions [100, 2, 3, 4], it flattens the tensor to be of shape [100, 24], where 24 = 2 * 3 * 4.  You can read the full documentation on [Flatten](https://www.tensorflow.org/api_docs/python/tf/keras/layers/Flatten).\n",
        "\n",
        "- **tf.keras.layers.Dense(units= ... , activation='softmax')(F):** given the flattened input F, it returns the **output** computed using a fully connected layer. You can read the full documentation on [Dense](https://www.tensorflow.org/api_docs/python/tf/keras/layers/Dense).\n",
        "\n",
        "\n",
        "#### **Window, kernel, filter, pool**\n",
        "\n",
        "The words \"kernel\" and \"filter\" are used to refer to the same thing. The word \"filter\" accounts for the amount of \"kernels\" that will be used in a single convolution layer. \"Pool\" is the name of the operation that takes the max or average value of the kernels. \n",
        "\n",
        "This is why the parameter `pool_size` refers to `kernel_size`, and you use `(f,f)` to refer to the filter size. \n",
        "\n",
        "Pool size and kernel size refer to the same thing in different objects - They refer to the shape of the window where the operation takes place. "
      ],
      "metadata": {
        "id": "4QgWrKckGmsf"
      }
    },
    {
      "cell_type": "markdown",
      "source": [
        "the following model: `CONV2D -> RELU -> MAXPOOL -> CONV2D -> RELU -> MAXPOOL -> FLATTEN -> DENSE`\n",
        "\n",
        " - [Conv2D](https://www.tensorflow.org/api_docs/python/tf/keras/layers/Conv2D): Use 8 4 by 4 filters, stride 1, padding is \"SAME\"\n",
        " - [ReLU](https://www.tensorflow.org/api_docs/python/tf/keras/layers/ReLU)\n",
        " - [MaxPool2D](https://www.tensorflow.org/api_docs/python/tf/keras/layers/MaxPool2D): Use an 8 by 8 filter size and an 8 by 8 stride, padding is \"SAME\"\n",
        " - **Conv2D**: Use 16 2 by 2 filters, stride 1, padding is \"SAME\"\n",
        " - **ReLU**\n",
        " - **MaxPool2D**: Use a 4 by 4 filter size and a 4 by 4 stride, padding is \"SAME\"\n",
        " - [Flatten](https://www.tensorflow.org/api_docs/python/tf/keras/layers/Flatten) the previous output.\n",
        " - Fully-connected ([Dense](https://www.tensorflow.org/api_docs/python/tf/keras/layers/Dense)) layer: Apply a fully connected layer with 6 neurons and a softmax activation. "
      ],
      "metadata": {
        "id": "ZleBego8NMua"
      }
    },
    {
      "cell_type": "code",
      "source": [
        "def convolutional_model(input_shape):\n",
        "    \"\"\"\n",
        "    Implements the forward propagation for the model:\n",
        "    CONV2D -> RELU -> MAXPOOL -> CONV2D -> RELU -> MAXPOOL -> FLATTEN -> DENSE\n",
        "    \n",
        "    Note that for simplicity and grading purposes, you'll hard-code some values\n",
        "    such as the stride and kernel (filter) sizes. \n",
        "    Normally, functions should take these values as function parameters.\n",
        "    \n",
        "    Arguments:\n",
        "    input_img -- input dataset, of shape (input_shape)\n",
        "\n",
        "    Returns:\n",
        "    model -- TF Keras model (object containing the information for the entire training process) \n",
        "    \"\"\"\n",
        "\n",
        "\n",
        "    input_img = tf.keras.Input(shape=input_shape)\n",
        "    \n",
        "    # CONV2D: 8 filters 4x4, stride of 1, padding 'SAME'\n",
        "    # note : the size of the output image is equal to the input image = \"SAME\"\n",
        "    Z1 = tfl.Conv2D(filters= 8. , kernel_size=4 , padding='same',strides=1)(input_img)\n",
        "\n",
        "    # RELU\n",
        "    A1 = tfl.ReLU()(Z1)\n",
        "\n",
        "    # MAXPOOL: window 8x8, stride 8, padding 'SAME'\n",
        "    P1 = tfl.MaxPool2D(pool_size=8, strides=8, padding='SAME')(A1)\n",
        "\n",
        "    # CONV2D: 16 filters 2x2, stride 1, padding 'SAME'\n",
        "    Z2 = tfl.Conv2D(filters= 16. , kernel_size=2 , padding='same',strides=1)(P1)\n",
        "\n",
        "    # RELU\n",
        "    A2 =  tfl.ReLU()(Z2)\n",
        "\n",
        "    # MAXPOOL: window 4x4, stride 4, padding 'SAME'\n",
        "    P2 = tfl.MaxPool2D(pool_size=4, strides=4, padding='SAME')(A2)\n",
        "\n",
        "    # FLATTEN\n",
        "    F = tfl.Flatten()(P2)\n",
        "\n",
        "    # Dense layer with 6 neurons in output layer\n",
        "    outputs = tfl.Dense(units= 6 , activation='softmax')(F)\n",
        "    model = tf.keras.Model(inputs=input_img, outputs=outputs)    \n",
        "    \n",
        "    return model"
      ],
      "metadata": {
        "id": "gHPOQJ3TEkLb"
      },
      "execution_count": 48,
      "outputs": []
    },
    {
      "cell_type": "code",
      "source": [
        "conv_model = convolutional_model((64, 64, 3))\n",
        "\n",
        "conv_model.compile(optimizer='adam',\n",
        "                  loss='categorical_crossentropy',\n",
        "                  metrics=['accuracy'])\n",
        "\n",
        "conv_model.summary()"
      ],
      "metadata": {
        "colab": {
          "base_uri": "https://localhost:8080/"
        },
        "id": "DH5ysaO9OO0o",
        "outputId": "e7ef9396-4c39-41e0-9f0b-43408abb2934"
      },
      "execution_count": 49,
      "outputs": [
        {
          "output_type": "stream",
          "name": "stdout",
          "text": [
            "Model: \"model\"\n",
            "_________________________________________________________________\n",
            " Layer (type)                Output Shape              Param #   \n",
            "=================================================================\n",
            " input_8 (InputLayer)        [(None, 64, 64, 3)]       0         \n",
            "                                                                 \n",
            " conv2d_7 (Conv2D)           (None, 64, 64, 8)         392       \n",
            "                                                                 \n",
            " re_lu_7 (ReLU)              (None, 64, 64, 8)         0         \n",
            "                                                                 \n",
            " max_pooling2d_7 (MaxPooling  (None, 8, 8, 8)          0         \n",
            " 2D)                                                             \n",
            "                                                                 \n",
            " conv2d_8 (Conv2D)           (None, 8, 8, 16)          528       \n",
            "                                                                 \n",
            " re_lu_8 (ReLU)              (None, 8, 8, 16)          0         \n",
            "                                                                 \n",
            " max_pooling2d_8 (MaxPooling  (None, 2, 2, 16)         0         \n",
            " 2D)                                                             \n",
            "                                                                 \n",
            " flatten_7 (Flatten)         (None, 64)                0         \n",
            "                                                                 \n",
            " dense_7 (Dense)             (None, 6)                 390       \n",
            "                                                                 \n",
            "=================================================================\n",
            "Total params: 1,310\n",
            "Trainable params: 1,310\n",
            "Non-trainable params: 0\n",
            "_________________________________________________________________\n"
          ]
        }
      ]
    },
    {
      "cell_type": "markdown",
      "source": [
        "## Train the Model"
      ],
      "metadata": {
        "id": "1VwULw6YQLmK"
      }
    },
    {
      "cell_type": "code",
      "source": [
        "train_dataset = tf.data.Dataset.from_tensor_slices((X_train, Y_train)).batch(64)\n",
        "test_dataset = tf.data.Dataset.from_tensor_slices((X_test, Y_test)).batch(64)\n",
        "history = conv_model.fit(train_dataset, epochs=100, validation_data=test_dataset)"
      ],
      "metadata": {
        "colab": {
          "base_uri": "https://localhost:8080/"
        },
        "id": "LOw0zBz9OQxh",
        "outputId": "afea7114-03f9-4d03-ceaf-73fef488ecbb"
      },
      "execution_count": 50,
      "outputs": [
        {
          "output_type": "stream",
          "name": "stdout",
          "text": [
            "Epoch 1/100\n",
            "17/17 [==============================] - 5s 240ms/step - loss: 1.8083 - accuracy: 0.1556 - val_loss: 1.7948 - val_accuracy: 0.1667\n",
            "Epoch 2/100\n",
            "17/17 [==============================] - 3s 184ms/step - loss: 1.7896 - accuracy: 0.1611 - val_loss: 1.7873 - val_accuracy: 0.1917\n",
            "Epoch 3/100\n",
            "17/17 [==============================] - 3s 168ms/step - loss: 1.7845 - accuracy: 0.2000 - val_loss: 1.7837 - val_accuracy: 0.2083\n",
            "Epoch 4/100\n",
            "17/17 [==============================] - 2s 109ms/step - loss: 1.7801 - accuracy: 0.2167 - val_loss: 1.7788 - val_accuracy: 0.1750\n",
            "Epoch 5/100\n",
            "17/17 [==============================] - 2s 108ms/step - loss: 1.7738 - accuracy: 0.2333 - val_loss: 1.7707 - val_accuracy: 0.2750\n",
            "Epoch 6/100\n",
            "17/17 [==============================] - 2s 109ms/step - loss: 1.7661 - accuracy: 0.2991 - val_loss: 1.7636 - val_accuracy: 0.2833\n",
            "Epoch 7/100\n",
            "17/17 [==============================] - 2s 109ms/step - loss: 1.7566 - accuracy: 0.3537 - val_loss: 1.7549 - val_accuracy: 0.2750\n",
            "Epoch 8/100\n",
            "17/17 [==============================] - 2s 111ms/step - loss: 1.7451 - accuracy: 0.3991 - val_loss: 1.7438 - val_accuracy: 0.3250\n",
            "Epoch 9/100\n",
            "17/17 [==============================] - 2s 110ms/step - loss: 1.7299 - accuracy: 0.4296 - val_loss: 1.7297 - val_accuracy: 0.3417\n",
            "Epoch 10/100\n",
            "17/17 [==============================] - 2s 105ms/step - loss: 1.7097 - accuracy: 0.4444 - val_loss: 1.7098 - val_accuracy: 0.4000\n",
            "Epoch 11/100\n",
            "17/17 [==============================] - 2s 109ms/step - loss: 1.6831 - accuracy: 0.4556 - val_loss: 1.6829 - val_accuracy: 0.4583\n",
            "Epoch 12/100\n",
            "17/17 [==============================] - 2s 107ms/step - loss: 1.6497 - accuracy: 0.4593 - val_loss: 1.6465 - val_accuracy: 0.4333\n",
            "Epoch 13/100\n",
            "17/17 [==============================] - 2s 110ms/step - loss: 1.6052 - accuracy: 0.4704 - val_loss: 1.5987 - val_accuracy: 0.4750\n",
            "Epoch 14/100\n",
            "17/17 [==============================] - 2s 111ms/step - loss: 1.5521 - accuracy: 0.5046 - val_loss: 1.5452 - val_accuracy: 0.4833\n",
            "Epoch 15/100\n",
            "17/17 [==============================] - 2s 109ms/step - loss: 1.4958 - accuracy: 0.5444 - val_loss: 1.4852 - val_accuracy: 0.5167\n",
            "Epoch 16/100\n",
            "17/17 [==============================] - 2s 109ms/step - loss: 1.4339 - accuracy: 0.5556 - val_loss: 1.4239 - val_accuracy: 0.5833\n",
            "Epoch 17/100\n",
            "17/17 [==============================] - 2s 110ms/step - loss: 1.3744 - accuracy: 0.5657 - val_loss: 1.3682 - val_accuracy: 0.5833\n",
            "Epoch 18/100\n",
            "17/17 [==============================] - 2s 106ms/step - loss: 1.3181 - accuracy: 0.5954 - val_loss: 1.3108 - val_accuracy: 0.6083\n",
            "Epoch 19/100\n",
            "17/17 [==============================] - 2s 110ms/step - loss: 1.2624 - accuracy: 0.6037 - val_loss: 1.2590 - val_accuracy: 0.6167\n",
            "Epoch 20/100\n",
            "17/17 [==============================] - 2s 110ms/step - loss: 1.2123 - accuracy: 0.6204 - val_loss: 1.2149 - val_accuracy: 0.6250\n",
            "Epoch 21/100\n",
            "17/17 [==============================] - 2s 110ms/step - loss: 1.1695 - accuracy: 0.6231 - val_loss: 1.1727 - val_accuracy: 0.6500\n",
            "Epoch 22/100\n",
            "17/17 [==============================] - 2s 108ms/step - loss: 1.1306 - accuracy: 0.6324 - val_loss: 1.1342 - val_accuracy: 0.6417\n",
            "Epoch 23/100\n",
            "17/17 [==============================] - 2s 110ms/step - loss: 1.0940 - accuracy: 0.6444 - val_loss: 1.1021 - val_accuracy: 0.6667\n",
            "Epoch 24/100\n",
            "17/17 [==============================] - 2s 109ms/step - loss: 1.0623 - accuracy: 0.6528 - val_loss: 1.0713 - val_accuracy: 0.6750\n",
            "Epoch 25/100\n",
            "17/17 [==============================] - 2s 110ms/step - loss: 1.0324 - accuracy: 0.6602 - val_loss: 1.0458 - val_accuracy: 0.6833\n",
            "Epoch 26/100\n",
            "17/17 [==============================] - 2s 110ms/step - loss: 1.0055 - accuracy: 0.6620 - val_loss: 1.0214 - val_accuracy: 0.6917\n",
            "Epoch 27/100\n",
            "17/17 [==============================] - 2s 106ms/step - loss: 0.9802 - accuracy: 0.6694 - val_loss: 0.9997 - val_accuracy: 0.7000\n",
            "Epoch 28/100\n",
            "17/17 [==============================] - 2s 109ms/step - loss: 0.9566 - accuracy: 0.6769 - val_loss: 0.9798 - val_accuracy: 0.7083\n",
            "Epoch 29/100\n",
            "17/17 [==============================] - 2s 109ms/step - loss: 0.9343 - accuracy: 0.6806 - val_loss: 0.9619 - val_accuracy: 0.7083\n",
            "Epoch 30/100\n",
            "17/17 [==============================] - 2s 110ms/step - loss: 0.9132 - accuracy: 0.6880 - val_loss: 0.9459 - val_accuracy: 0.7167\n",
            "Epoch 31/100\n",
            "17/17 [==============================] - 2s 111ms/step - loss: 0.8924 - accuracy: 0.6944 - val_loss: 0.9310 - val_accuracy: 0.7083\n",
            "Epoch 32/100\n",
            "17/17 [==============================] - 2s 108ms/step - loss: 0.8730 - accuracy: 0.7037 - val_loss: 0.9162 - val_accuracy: 0.7250\n",
            "Epoch 33/100\n",
            "17/17 [==============================] - 2s 110ms/step - loss: 0.8552 - accuracy: 0.7120 - val_loss: 0.9015 - val_accuracy: 0.7333\n",
            "Epoch 34/100\n",
            "17/17 [==============================] - 2s 110ms/step - loss: 0.8385 - accuracy: 0.7204 - val_loss: 0.8874 - val_accuracy: 0.7250\n",
            "Epoch 35/100\n",
            "17/17 [==============================] - 2s 111ms/step - loss: 0.8221 - accuracy: 0.7231 - val_loss: 0.8738 - val_accuracy: 0.7333\n",
            "Epoch 36/100\n",
            "17/17 [==============================] - 2s 109ms/step - loss: 0.8068 - accuracy: 0.7306 - val_loss: 0.8608 - val_accuracy: 0.7417\n",
            "Epoch 37/100\n",
            "17/17 [==============================] - 2s 106ms/step - loss: 0.7920 - accuracy: 0.7352 - val_loss: 0.8489 - val_accuracy: 0.7333\n",
            "Epoch 38/100\n",
            "17/17 [==============================] - 2s 111ms/step - loss: 0.7782 - accuracy: 0.7380 - val_loss: 0.8374 - val_accuracy: 0.7250\n",
            "Epoch 39/100\n",
            "17/17 [==============================] - 2s 107ms/step - loss: 0.7647 - accuracy: 0.7444 - val_loss: 0.8264 - val_accuracy: 0.7417\n",
            "Epoch 40/100\n",
            "17/17 [==============================] - 2s 109ms/step - loss: 0.7518 - accuracy: 0.7463 - val_loss: 0.8160 - val_accuracy: 0.7417\n",
            "Epoch 41/100\n",
            "17/17 [==============================] - 2s 110ms/step - loss: 0.7395 - accuracy: 0.7509 - val_loss: 0.8062 - val_accuracy: 0.7417\n",
            "Epoch 42/100\n",
            "17/17 [==============================] - 2s 108ms/step - loss: 0.7275 - accuracy: 0.7583 - val_loss: 0.7967 - val_accuracy: 0.7417\n",
            "Epoch 43/100\n",
            "17/17 [==============================] - 2s 107ms/step - loss: 0.7161 - accuracy: 0.7611 - val_loss: 0.7878 - val_accuracy: 0.7417\n",
            "Epoch 44/100\n",
            "17/17 [==============================] - 2s 110ms/step - loss: 0.7049 - accuracy: 0.7694 - val_loss: 0.7798 - val_accuracy: 0.7417\n",
            "Epoch 45/100\n",
            "17/17 [==============================] - 2s 106ms/step - loss: 0.6942 - accuracy: 0.7722 - val_loss: 0.7718 - val_accuracy: 0.7417\n",
            "Epoch 46/100\n",
            "17/17 [==============================] - 2s 144ms/step - loss: 0.6837 - accuracy: 0.7796 - val_loss: 0.7634 - val_accuracy: 0.7500\n",
            "Epoch 47/100\n",
            "17/17 [==============================] - 2s 115ms/step - loss: 0.6733 - accuracy: 0.7843 - val_loss: 0.7557 - val_accuracy: 0.7500\n",
            "Epoch 48/100\n",
            "17/17 [==============================] - 3s 157ms/step - loss: 0.6632 - accuracy: 0.7870 - val_loss: 0.7487 - val_accuracy: 0.7417\n",
            "Epoch 49/100\n",
            "17/17 [==============================] - 2s 108ms/step - loss: 0.6535 - accuracy: 0.7917 - val_loss: 0.7402 - val_accuracy: 0.7417\n",
            "Epoch 50/100\n",
            "17/17 [==============================] - 2s 110ms/step - loss: 0.6435 - accuracy: 0.7963 - val_loss: 0.7327 - val_accuracy: 0.7417\n",
            "Epoch 51/100\n",
            "17/17 [==============================] - 2s 111ms/step - loss: 0.6337 - accuracy: 0.7963 - val_loss: 0.7246 - val_accuracy: 0.7500\n",
            "Epoch 52/100\n",
            "17/17 [==============================] - 2s 110ms/step - loss: 0.6242 - accuracy: 0.8000 - val_loss: 0.7172 - val_accuracy: 0.7500\n",
            "Epoch 53/100\n",
            "17/17 [==============================] - 2s 109ms/step - loss: 0.6154 - accuracy: 0.8046 - val_loss: 0.7109 - val_accuracy: 0.7500\n",
            "Epoch 54/100\n",
            "17/17 [==============================] - 2s 147ms/step - loss: 0.6071 - accuracy: 0.8102 - val_loss: 0.7038 - val_accuracy: 0.7583\n",
            "Epoch 55/100\n",
            "17/17 [==============================] - 2s 109ms/step - loss: 0.5989 - accuracy: 0.8130 - val_loss: 0.6970 - val_accuracy: 0.7583\n",
            "Epoch 56/100\n",
            "17/17 [==============================] - 2s 107ms/step - loss: 0.5906 - accuracy: 0.8130 - val_loss: 0.6908 - val_accuracy: 0.7583\n",
            "Epoch 57/100\n",
            "17/17 [==============================] - 2s 111ms/step - loss: 0.5826 - accuracy: 0.8185 - val_loss: 0.6838 - val_accuracy: 0.7833\n",
            "Epoch 58/100\n",
            "17/17 [==============================] - 2s 109ms/step - loss: 0.5746 - accuracy: 0.8185 - val_loss: 0.6776 - val_accuracy: 0.7750\n",
            "Epoch 59/100\n",
            "17/17 [==============================] - 2s 109ms/step - loss: 0.5670 - accuracy: 0.8222 - val_loss: 0.6713 - val_accuracy: 0.7750\n",
            "Epoch 60/100\n",
            "17/17 [==============================] - 2s 107ms/step - loss: 0.5594 - accuracy: 0.8269 - val_loss: 0.6653 - val_accuracy: 0.7750\n",
            "Epoch 61/100\n",
            "17/17 [==============================] - 2s 110ms/step - loss: 0.5522 - accuracy: 0.8296 - val_loss: 0.6589 - val_accuracy: 0.7833\n",
            "Epoch 62/100\n",
            "17/17 [==============================] - 2s 109ms/step - loss: 0.5453 - accuracy: 0.8315 - val_loss: 0.6532 - val_accuracy: 0.7833\n",
            "Epoch 63/100\n",
            "17/17 [==============================] - 2s 108ms/step - loss: 0.5387 - accuracy: 0.8333 - val_loss: 0.6475 - val_accuracy: 0.7833\n",
            "Epoch 64/100\n",
            "17/17 [==============================] - 2s 110ms/step - loss: 0.5319 - accuracy: 0.8361 - val_loss: 0.6422 - val_accuracy: 0.7917\n",
            "Epoch 65/100\n",
            "17/17 [==============================] - 2s 110ms/step - loss: 0.5255 - accuracy: 0.8426 - val_loss: 0.6373 - val_accuracy: 0.7917\n",
            "Epoch 66/100\n",
            "17/17 [==============================] - 2s 110ms/step - loss: 0.5195 - accuracy: 0.8426 - val_loss: 0.6316 - val_accuracy: 0.7917\n",
            "Epoch 67/100\n",
            "17/17 [==============================] - 2s 109ms/step - loss: 0.5134 - accuracy: 0.8426 - val_loss: 0.6262 - val_accuracy: 0.7917\n",
            "Epoch 68/100\n",
            "17/17 [==============================] - 2s 108ms/step - loss: 0.5074 - accuracy: 0.8426 - val_loss: 0.6207 - val_accuracy: 0.7917\n",
            "Epoch 69/100\n",
            "17/17 [==============================] - 2s 111ms/step - loss: 0.5018 - accuracy: 0.8426 - val_loss: 0.6151 - val_accuracy: 0.7917\n",
            "Epoch 70/100\n",
            "17/17 [==============================] - 2s 109ms/step - loss: 0.4962 - accuracy: 0.8454 - val_loss: 0.6102 - val_accuracy: 0.7917\n",
            "Epoch 71/100\n",
            "17/17 [==============================] - 2s 111ms/step - loss: 0.4910 - accuracy: 0.8509 - val_loss: 0.6051 - val_accuracy: 0.7917\n",
            "Epoch 72/100\n",
            "17/17 [==============================] - 2s 110ms/step - loss: 0.4856 - accuracy: 0.8491 - val_loss: 0.6005 - val_accuracy: 0.7917\n",
            "Epoch 73/100\n",
            "17/17 [==============================] - 2s 111ms/step - loss: 0.4805 - accuracy: 0.8519 - val_loss: 0.5960 - val_accuracy: 0.7917\n",
            "Epoch 74/100\n",
            "17/17 [==============================] - 2s 111ms/step - loss: 0.4754 - accuracy: 0.8528 - val_loss: 0.5908 - val_accuracy: 0.7917\n",
            "Epoch 75/100\n",
            "17/17 [==============================] - 2s 112ms/step - loss: 0.4703 - accuracy: 0.8556 - val_loss: 0.5862 - val_accuracy: 0.7917\n",
            "Epoch 76/100\n",
            "17/17 [==============================] - 2s 110ms/step - loss: 0.4654 - accuracy: 0.8574 - val_loss: 0.5813 - val_accuracy: 0.8000\n",
            "Epoch 77/100\n",
            "17/17 [==============================] - 2s 107ms/step - loss: 0.4606 - accuracy: 0.8620 - val_loss: 0.5773 - val_accuracy: 0.8000\n",
            "Epoch 78/100\n",
            "17/17 [==============================] - 2s 112ms/step - loss: 0.4560 - accuracy: 0.8630 - val_loss: 0.5729 - val_accuracy: 0.8000\n",
            "Epoch 79/100\n",
            "17/17 [==============================] - 2s 111ms/step - loss: 0.4514 - accuracy: 0.8639 - val_loss: 0.5691 - val_accuracy: 0.8000\n",
            "Epoch 80/100\n",
            "17/17 [==============================] - 2s 109ms/step - loss: 0.4469 - accuracy: 0.8639 - val_loss: 0.5649 - val_accuracy: 0.7917\n",
            "Epoch 81/100\n",
            "17/17 [==============================] - 2s 109ms/step - loss: 0.4427 - accuracy: 0.8676 - val_loss: 0.5615 - val_accuracy: 0.7917\n",
            "Epoch 82/100\n",
            "17/17 [==============================] - 2s 113ms/step - loss: 0.4382 - accuracy: 0.8676 - val_loss: 0.5583 - val_accuracy: 0.7917\n",
            "Epoch 83/100\n",
            "17/17 [==============================] - 2s 111ms/step - loss: 0.4342 - accuracy: 0.8704 - val_loss: 0.5552 - val_accuracy: 0.7917\n",
            "Epoch 84/100\n",
            "17/17 [==============================] - 2s 110ms/step - loss: 0.4302 - accuracy: 0.8722 - val_loss: 0.5519 - val_accuracy: 0.7917\n",
            "Epoch 85/100\n",
            "17/17 [==============================] - 2s 111ms/step - loss: 0.4263 - accuracy: 0.8731 - val_loss: 0.5489 - val_accuracy: 0.7917\n",
            "Epoch 86/100\n",
            "17/17 [==============================] - 2s 107ms/step - loss: 0.4223 - accuracy: 0.8741 - val_loss: 0.5453 - val_accuracy: 0.7917\n",
            "Epoch 87/100\n",
            "17/17 [==============================] - 2s 112ms/step - loss: 0.4186 - accuracy: 0.8731 - val_loss: 0.5424 - val_accuracy: 0.7917\n",
            "Epoch 88/100\n",
            "17/17 [==============================] - 2s 110ms/step - loss: 0.4148 - accuracy: 0.8731 - val_loss: 0.5388 - val_accuracy: 0.8000\n",
            "Epoch 89/100\n",
            "17/17 [==============================] - 2s 110ms/step - loss: 0.4111 - accuracy: 0.8741 - val_loss: 0.5366 - val_accuracy: 0.8000\n",
            "Epoch 90/100\n",
            "17/17 [==============================] - 2s 111ms/step - loss: 0.4074 - accuracy: 0.8769 - val_loss: 0.5323 - val_accuracy: 0.8000\n",
            "Epoch 91/100\n",
            "17/17 [==============================] - 2s 147ms/step - loss: 0.4037 - accuracy: 0.8787 - val_loss: 0.5300 - val_accuracy: 0.8000\n",
            "Epoch 92/100\n",
            "17/17 [==============================] - 3s 160ms/step - loss: 0.4001 - accuracy: 0.8806 - val_loss: 0.5266 - val_accuracy: 0.8000\n",
            "Epoch 93/100\n",
            "17/17 [==============================] - 2s 111ms/step - loss: 0.3967 - accuracy: 0.8815 - val_loss: 0.5245 - val_accuracy: 0.8000\n",
            "Epoch 94/100\n",
            "17/17 [==============================] - 2s 108ms/step - loss: 0.3933 - accuracy: 0.8824 - val_loss: 0.5209 - val_accuracy: 0.8000\n",
            "Epoch 95/100\n",
            "17/17 [==============================] - 2s 112ms/step - loss: 0.3899 - accuracy: 0.8824 - val_loss: 0.5185 - val_accuracy: 0.8000\n",
            "Epoch 96/100\n",
            "17/17 [==============================] - 2s 110ms/step - loss: 0.3864 - accuracy: 0.8852 - val_loss: 0.5155 - val_accuracy: 0.8000\n",
            "Epoch 97/100\n",
            "17/17 [==============================] - 2s 109ms/step - loss: 0.3832 - accuracy: 0.8861 - val_loss: 0.5133 - val_accuracy: 0.8000\n",
            "Epoch 98/100\n",
            "17/17 [==============================] - 3s 178ms/step - loss: 0.3798 - accuracy: 0.8870 - val_loss: 0.5101 - val_accuracy: 0.8000\n",
            "Epoch 99/100\n",
            "17/17 [==============================] - 3s 182ms/step - loss: 0.3767 - accuracy: 0.8852 - val_loss: 0.5071 - val_accuracy: 0.8000\n",
            "Epoch 100/100\n",
            "17/17 [==============================] - 3s 139ms/step - loss: 0.3735 - accuracy: 0.8880 - val_loss: 0.5044 - val_accuracy: 0.8000\n"
          ]
        }
      ]
    },
    {
      "cell_type": "markdown",
      "source": [
        "## History Object\n",
        "\n",
        "The history object is an output of the .fit() operation, and provides a record of all the loss and metric values in memory. It's stored as a dictionary that you can retrieve"
      ],
      "metadata": {
        "id": "AU-5F-TJRCj4"
      }
    },
    {
      "cell_type": "code",
      "source": [
        "history.history"
      ],
      "metadata": {
        "colab": {
          "base_uri": "https://localhost:8080/"
        },
        "id": "mDwYs-C4QI1Z",
        "outputId": "ab3807ae-c941-45f5-e42f-f4d24c0f4066"
      },
      "execution_count": 66,
      "outputs": [
        {
          "output_type": "execute_result",
          "data": {
            "text/plain": [
              "{'accuracy': [0.15555556118488312,\n",
              "  0.16111111640930176,\n",
              "  0.20000000298023224,\n",
              "  0.21666666865348816,\n",
              "  0.23333333432674408,\n",
              "  0.29907408356666565,\n",
              "  0.35370370745658875,\n",
              "  0.39907407760620117,\n",
              "  0.4296296238899231,\n",
              "  0.4444444477558136,\n",
              "  0.4555555582046509,\n",
              "  0.4592592716217041,\n",
              "  0.4703703820705414,\n",
              "  0.5046296119689941,\n",
              "  0.5444444417953491,\n",
              "  0.5555555820465088,\n",
              "  0.5657407641410828,\n",
              "  0.595370352268219,\n",
              "  0.6037036776542664,\n",
              "  0.6203703880310059,\n",
              "  0.6231481432914734,\n",
              "  0.6324074268341064,\n",
              "  0.644444465637207,\n",
              "  0.6527777910232544,\n",
              "  0.6601851582527161,\n",
              "  0.6620370149612427,\n",
              "  0.6694444417953491,\n",
              "  0.6768518686294556,\n",
              "  0.6805555820465088,\n",
              "  0.6879629492759705,\n",
              "  0.6944444179534912,\n",
              "  0.7037037014961243,\n",
              "  0.7120370268821716,\n",
              "  0.720370352268219,\n",
              "  0.7231481671333313,\n",
              "  0.730555534362793,\n",
              "  0.7351852059364319,\n",
              "  0.7379629611968994,\n",
              "  0.7444444298744202,\n",
              "  0.7462962865829468,\n",
              "  0.7509258985519409,\n",
              "  0.7583333253860474,\n",
              "  0.7611111402511597,\n",
              "  0.769444465637207,\n",
              "  0.7722222208976746,\n",
              "  0.779629647731781,\n",
              "  0.7842592597007751,\n",
              "  0.7870370149612427,\n",
              "  0.7916666865348816,\n",
              "  0.7962962985038757,\n",
              "  0.7962962985038757,\n",
              "  0.800000011920929,\n",
              "  0.8046296238899231,\n",
              "  0.8101851940155029,\n",
              "  0.8129629492759705,\n",
              "  0.8129629492759705,\n",
              "  0.8185185194015503,\n",
              "  0.8185185194015503,\n",
              "  0.8222222328186035,\n",
              "  0.8268518447875977,\n",
              "  0.8296296000480652,\n",
              "  0.8314814567565918,\n",
              "  0.8333333134651184,\n",
              "  0.8361111283302307,\n",
              "  0.8425925970077515,\n",
              "  0.8425925970077515,\n",
              "  0.8425925970077515,\n",
              "  0.8425925970077515,\n",
              "  0.8425925970077515,\n",
              "  0.845370352268219,\n",
              "  0.8509259223937988,\n",
              "  0.8490740656852722,\n",
              "  0.8518518805503845,\n",
              "  0.8527777791023254,\n",
              "  0.855555534362793,\n",
              "  0.8574073910713196,\n",
              "  0.8620370626449585,\n",
              "  0.8629629611968994,\n",
              "  0.8638888597488403,\n",
              "  0.8638888597488403,\n",
              "  0.8675925731658936,\n",
              "  0.8675925731658936,\n",
              "  0.8703703880310059,\n",
              "  0.8722222447395325,\n",
              "  0.8731481432914734,\n",
              "  0.8740741014480591,\n",
              "  0.8731481432914734,\n",
              "  0.8731481432914734,\n",
              "  0.8740741014480591,\n",
              "  0.8768518567085266,\n",
              "  0.8787037134170532,\n",
              "  0.8805555701255798,\n",
              "  0.8814814686775208,\n",
              "  0.8824074268341064,\n",
              "  0.8824074268341064,\n",
              "  0.885185182094574,\n",
              "  0.8861111402511597,\n",
              "  0.8870370388031006,\n",
              "  0.885185182094574,\n",
              "  0.8879629373550415],\n",
              " 'loss': [1.8082668781280518,\n",
              "  1.7895681858062744,\n",
              "  1.7844598293304443,\n",
              "  1.7800806760787964,\n",
              "  1.7737809419631958,\n",
              "  1.7661465406417847,\n",
              "  1.7566344738006592,\n",
              "  1.7451139688491821,\n",
              "  1.729859471321106,\n",
              "  1.7097069025039673,\n",
              "  1.683131456375122,\n",
              "  1.6496607065200806,\n",
              "  1.6052135229110718,\n",
              "  1.552126169204712,\n",
              "  1.495762825012207,\n",
              "  1.4338983297348022,\n",
              "  1.3743640184402466,\n",
              "  1.3180770874023438,\n",
              "  1.2624117136001587,\n",
              "  1.2122955322265625,\n",
              "  1.16954505443573,\n",
              "  1.130630373954773,\n",
              "  1.0939676761627197,\n",
              "  1.062288522720337,\n",
              "  1.032378077507019,\n",
              "  1.0054833889007568,\n",
              "  0.9801570177078247,\n",
              "  0.9566363096237183,\n",
              "  0.9343430399894714,\n",
              "  0.9131682515144348,\n",
              "  0.8924058079719543,\n",
              "  0.8729585409164429,\n",
              "  0.8551992177963257,\n",
              "  0.8384536504745483,\n",
              "  0.8221482038497925,\n",
              "  0.8067567348480225,\n",
              "  0.7920079827308655,\n",
              "  0.7781966924667358,\n",
              "  0.7646943926811218,\n",
              "  0.7518396377563477,\n",
              "  0.7395133972167969,\n",
              "  0.727516770362854,\n",
              "  0.7160966396331787,\n",
              "  0.7048838138580322,\n",
              "  0.6941676139831543,\n",
              "  0.6837208271026611,\n",
              "  0.6732949614524841,\n",
              "  0.663181722164154,\n",
              "  0.6535348892211914,\n",
              "  0.6434916257858276,\n",
              "  0.6336692571640015,\n",
              "  0.6242486238479614,\n",
              "  0.6153953671455383,\n",
              "  0.6070851683616638,\n",
              "  0.5988695025444031,\n",
              "  0.5905555486679077,\n",
              "  0.5825647711753845,\n",
              "  0.574637770652771,\n",
              "  0.566959023475647,\n",
              "  0.559433102607727,\n",
              "  0.5522477030754089,\n",
              "  0.5452661514282227,\n",
              "  0.5387269258499146,\n",
              "  0.5319414734840393,\n",
              "  0.52547687292099,\n",
              "  0.5194711089134216,\n",
              "  0.5133867859840393,\n",
              "  0.5074042677879333,\n",
              "  0.5017687678337097,\n",
              "  0.4962293803691864,\n",
              "  0.4909937083721161,\n",
              "  0.4855698049068451,\n",
              "  0.4805421531200409,\n",
              "  0.47542572021484375,\n",
              "  0.47025012969970703,\n",
              "  0.46543461084365845,\n",
              "  0.4606494605541229,\n",
              "  0.45602428913116455,\n",
              "  0.45144346356391907,\n",
              "  0.44692477583885193,\n",
              "  0.44265493750572205,\n",
              "  0.43816375732421875,\n",
              "  0.43418213725090027,\n",
              "  0.4302090108394623,\n",
              "  0.42627429962158203,\n",
              "  0.4223344027996063,\n",
              "  0.41860130429267883,\n",
              "  0.41479575634002686,\n",
              "  0.4110693037509918,\n",
              "  0.40736231207847595,\n",
              "  0.40367770195007324,\n",
              "  0.40008851885795593,\n",
              "  0.39667078852653503,\n",
              "  0.39334917068481445,\n",
              "  0.38986319303512573,\n",
              "  0.38637468218803406,\n",
              "  0.38319075107574463,\n",
              "  0.3798213303089142,\n",
              "  0.37674152851104736,\n",
              "  0.37348681688308716],\n",
              " 'val_accuracy': [0.1666666716337204,\n",
              "  0.19166666269302368,\n",
              "  0.2083333283662796,\n",
              "  0.17499999701976776,\n",
              "  0.2750000059604645,\n",
              "  0.28333333134651184,\n",
              "  0.2750000059604645,\n",
              "  0.32499998807907104,\n",
              "  0.34166666865348816,\n",
              "  0.4000000059604645,\n",
              "  0.4583333432674408,\n",
              "  0.4333333373069763,\n",
              "  0.4749999940395355,\n",
              "  0.4833333194255829,\n",
              "  0.5166666507720947,\n",
              "  0.5833333134651184,\n",
              "  0.5833333134651184,\n",
              "  0.6083333492279053,\n",
              "  0.6166666746139526,\n",
              "  0.625,\n",
              "  0.6499999761581421,\n",
              "  0.6416666507720947,\n",
              "  0.6666666865348816,\n",
              "  0.675000011920929,\n",
              "  0.6833333373069763,\n",
              "  0.6916666626930237,\n",
              "  0.699999988079071,\n",
              "  0.7083333134651184,\n",
              "  0.7083333134651184,\n",
              "  0.7166666388511658,\n",
              "  0.7083333134651184,\n",
              "  0.7250000238418579,\n",
              "  0.7333333492279053,\n",
              "  0.7250000238418579,\n",
              "  0.7333333492279053,\n",
              "  0.7416666746139526,\n",
              "  0.7333333492279053,\n",
              "  0.7250000238418579,\n",
              "  0.7416666746139526,\n",
              "  0.7416666746139526,\n",
              "  0.7416666746139526,\n",
              "  0.7416666746139526,\n",
              "  0.7416666746139526,\n",
              "  0.7416666746139526,\n",
              "  0.7416666746139526,\n",
              "  0.75,\n",
              "  0.75,\n",
              "  0.7416666746139526,\n",
              "  0.7416666746139526,\n",
              "  0.7416666746139526,\n",
              "  0.75,\n",
              "  0.75,\n",
              "  0.75,\n",
              "  0.7583333253860474,\n",
              "  0.7583333253860474,\n",
              "  0.7583333253860474,\n",
              "  0.7833333611488342,\n",
              "  0.7749999761581421,\n",
              "  0.7749999761581421,\n",
              "  0.7749999761581421,\n",
              "  0.7833333611488342,\n",
              "  0.7833333611488342,\n",
              "  0.7833333611488342,\n",
              "  0.7916666865348816,\n",
              "  0.7916666865348816,\n",
              "  0.7916666865348816,\n",
              "  0.7916666865348816,\n",
              "  0.7916666865348816,\n",
              "  0.7916666865348816,\n",
              "  0.7916666865348816,\n",
              "  0.7916666865348816,\n",
              "  0.7916666865348816,\n",
              "  0.7916666865348816,\n",
              "  0.7916666865348816,\n",
              "  0.7916666865348816,\n",
              "  0.800000011920929,\n",
              "  0.800000011920929,\n",
              "  0.800000011920929,\n",
              "  0.800000011920929,\n",
              "  0.7916666865348816,\n",
              "  0.7916666865348816,\n",
              "  0.7916666865348816,\n",
              "  0.7916666865348816,\n",
              "  0.7916666865348816,\n",
              "  0.7916666865348816,\n",
              "  0.7916666865348816,\n",
              "  0.7916666865348816,\n",
              "  0.800000011920929,\n",
              "  0.800000011920929,\n",
              "  0.800000011920929,\n",
              "  0.800000011920929,\n",
              "  0.800000011920929,\n",
              "  0.800000011920929,\n",
              "  0.800000011920929,\n",
              "  0.800000011920929,\n",
              "  0.800000011920929,\n",
              "  0.800000011920929,\n",
              "  0.800000011920929,\n",
              "  0.800000011920929,\n",
              "  0.800000011920929],\n",
              " 'val_loss': [1.7948392629623413,\n",
              "  1.787341594696045,\n",
              "  1.7836649417877197,\n",
              "  1.778784155845642,\n",
              "  1.7707126140594482,\n",
              "  1.76358163356781,\n",
              "  1.7548774480819702,\n",
              "  1.743797779083252,\n",
              "  1.7297253608703613,\n",
              "  1.7097856998443604,\n",
              "  1.6829198598861694,\n",
              "  1.6465075016021729,\n",
              "  1.5987436771392822,\n",
              "  1.5451850891113281,\n",
              "  1.485190749168396,\n",
              "  1.4239054918289185,\n",
              "  1.3681600093841553,\n",
              "  1.3108099699020386,\n",
              "  1.259027361869812,\n",
              "  1.2148711681365967,\n",
              "  1.1726826429367065,\n",
              "  1.1342452764511108,\n",
              "  1.102120280265808,\n",
              "  1.0712969303131104,\n",
              "  1.0458296537399292,\n",
              "  1.0214062929153442,\n",
              "  0.9997129440307617,\n",
              "  0.9797876477241516,\n",
              "  0.9619424939155579,\n",
              "  0.9459017515182495,\n",
              "  0.9309983849525452,\n",
              "  0.9162387251853943,\n",
              "  0.901533305644989,\n",
              "  0.8873667120933533,\n",
              "  0.873753011226654,\n",
              "  0.8608426451683044,\n",
              "  0.8488559722900391,\n",
              "  0.8373937010765076,\n",
              "  0.8264301419258118,\n",
              "  0.8160378932952881,\n",
              "  0.8061789274215698,\n",
              "  0.7966897487640381,\n",
              "  0.7878329157829285,\n",
              "  0.7797693610191345,\n",
              "  0.7718091607093811,\n",
              "  0.7634474635124207,\n",
              "  0.7557366490364075,\n",
              "  0.7486954927444458,\n",
              "  0.7401955723762512,\n",
              "  0.7327029705047607,\n",
              "  0.7245658040046692,\n",
              "  0.717206597328186,\n",
              "  0.7109383344650269,\n",
              "  0.7037797570228577,\n",
              "  0.6969910860061646,\n",
              "  0.6908053159713745,\n",
              "  0.6837524175643921,\n",
              "  0.6776125431060791,\n",
              "  0.6712993383407593,\n",
              "  0.6653478741645813,\n",
              "  0.658913791179657,\n",
              "  0.6532097458839417,\n",
              "  0.6474933624267578,\n",
              "  0.6422049403190613,\n",
              "  0.6373155117034912,\n",
              "  0.6315588355064392,\n",
              "  0.6261927485466003,\n",
              "  0.6207250952720642,\n",
              "  0.615094006061554,\n",
              "  0.6101566553115845,\n",
              "  0.605069100856781,\n",
              "  0.6005187630653381,\n",
              "  0.5959561467170715,\n",
              "  0.5908018946647644,\n",
              "  0.5862207412719727,\n",
              "  0.5813277959823608,\n",
              "  0.5773131847381592,\n",
              "  0.5728956460952759,\n",
              "  0.5690813660621643,\n",
              "  0.564902126789093,\n",
              "  0.5615074038505554,\n",
              "  0.5583115816116333,\n",
              "  0.5551972985267639,\n",
              "  0.551909863948822,\n",
              "  0.548858106136322,\n",
              "  0.5452937483787537,\n",
              "  0.5424091815948486,\n",
              "  0.5387879014015198,\n",
              "  0.5366054773330688,\n",
              "  0.5323136448860168,\n",
              "  0.5300248265266418,\n",
              "  0.526620626449585,\n",
              "  0.5245288610458374,\n",
              "  0.5209027528762817,\n",
              "  0.5184634327888489,\n",
              "  0.5155196785926819,\n",
              "  0.5133057832717896,\n",
              "  0.5101026296615601,\n",
              "  0.5071439146995544,\n",
              "  0.5044187307357788]}"
            ]
          },
          "metadata": {},
          "execution_count": 66
        }
      ]
    },
    {
      "cell_type": "code",
      "source": [
        "# The history.history[\"loss\"] entry is a dictionary with as many values as epochs that the\n",
        "# model was trained on.\n",
        "\n",
        "df_loss_acc = pd.DataFrame(history.history)\n",
        "df_loss= df_loss_acc[['loss','val_loss']]\n",
        "\n",
        "df_loss.rename(columns={'loss':'train','val_loss':'validation'},inplace=True)\n",
        "df_acc= df_loss_acc[['accuracy','val_accuracy']]\n",
        "\n",
        "df_acc.rename(columns={'accuracy':'train','val_accuracy':'validation'},inplace=True)\n",
        "df_loss.plot(title='Model loss',figsize=(12,8)).set(xlabel='Epoch',ylabel='Loss')\n",
        "df_acc.plot(title='Model Accuracy',figsize=(12,8)).set(xlabel='Epoch',ylabel='Accuracy')"
      ],
      "metadata": {
        "colab": {
          "base_uri": "https://localhost:8080/",
          "height": 1000
        },
        "id": "uh9xYcrFRF11",
        "outputId": "fdb9ac77-87e4-41df-8078-4ffcefcce09a"
      },
      "execution_count": 54,
      "outputs": [
        {
          "output_type": "stream",
          "name": "stderr",
          "text": [
            "/usr/local/lib/python3.7/dist-packages/pandas/core/frame.py:5047: SettingWithCopyWarning: \n",
            "A value is trying to be set on a copy of a slice from a DataFrame\n",
            "\n",
            "See the caveats in the documentation: https://pandas.pydata.org/pandas-docs/stable/user_guide/indexing.html#returning-a-view-versus-a-copy\n",
            "  errors=errors,\n"
          ]
        },
        {
          "output_type": "execute_result",
          "data": {
            "text/plain": [
              "[Text(0, 0.5, 'Accuracy'), Text(0.5, 0, 'Epoch')]"
            ]
          },
          "metadata": {},
          "execution_count": 54
        },
        {
          "output_type": "display_data",
          "data": {
            "image/png": "[encoded data removed]",
            "text/plain": [
              "<Figure size 864x576 with 1 Axes>"
            ]
          },
          "metadata": {
            "needs_background": "light"
          }
        },
        {
          "output_type": "display_data",
          "data": {
            "image/png": "[encoded data removed]",
            "text/plain": [
              "<Figure size 864x576 with 1 Axes>"
            ]
          },
          "metadata": {
            "needs_background": "light"
          }
        }
      ]
    },
    {
      "cell_type": "code",
      "source": [
        ""
      ],
      "metadata": {
        "id": "9mIV2oqcRUeq"
      },
      "execution_count": null,
      "outputs": []
    }
  ]
}